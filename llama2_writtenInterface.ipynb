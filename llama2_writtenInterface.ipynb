{
  "nbformat": 4,
  "nbformat_minor": 0,
  "metadata": {
    "colab": {
      "provenance": [],
      "gpuType": "T4"
    },
    "kernelspec": {
      "name": "python3",
      "display_name": "Python 3"
    },
    "language_info": {
      "name": "python"
    },
    "accelerator": "GPU",
    "widgets": {
      "application/vnd.jupyter.widget-state+json": {
        "4ddd127aa4f249378b200d1f0a2e49cd": {
          "model_module": "@jupyter-widgets/controls",
          "model_name": "HBoxModel",
          "model_module_version": "1.5.0",
          "state": {
            "_dom_classes": [],
            "_model_module": "@jupyter-widgets/controls",
            "_model_module_version": "1.5.0",
            "_model_name": "HBoxModel",
            "_view_count": null,
            "_view_module": "@jupyter-widgets/controls",
            "_view_module_version": "1.5.0",
            "_view_name": "HBoxView",
            "box_style": "",
            "children": [
              "IPY_MODEL_7e5a4920e25b4fc6b7e89b4ac49ef47e",
              "IPY_MODEL_e65fab5628844a2a82d1bf42e41f7c82",
              "IPY_MODEL_572ffebd43ad49539670158a0e5facc8"
            ],
            "layout": "IPY_MODEL_9f7802ec7b054e7483e190927a6e17c4"
          }
        },
        "7e5a4920e25b4fc6b7e89b4ac49ef47e": {
          "model_module": "@jupyter-widgets/controls",
          "model_name": "HTMLModel",
          "model_module_version": "1.5.0",
          "state": {
            "_dom_classes": [],
            "_model_module": "@jupyter-widgets/controls",
            "_model_module_version": "1.5.0",
            "_model_name": "HTMLModel",
            "_view_count": null,
            "_view_module": "@jupyter-widgets/controls",
            "_view_module_version": "1.5.0",
            "_view_name": "HTMLView",
            "description": "",
            "description_tooltip": null,
            "layout": "IPY_MODEL_24ace3d333b741f5a50b1257406da3ea",
            "placeholder": "​",
            "style": "IPY_MODEL_82a69dbf65bf4d9a90aca22b369030f2",
            "value": "Loading checkpoint shards: 100%"
          }
        },
        "e65fab5628844a2a82d1bf42e41f7c82": {
          "model_module": "@jupyter-widgets/controls",
          "model_name": "FloatProgressModel",
          "model_module_version": "1.5.0",
          "state": {
            "_dom_classes": [],
            "_model_module": "@jupyter-widgets/controls",
            "_model_module_version": "1.5.0",
            "_model_name": "FloatProgressModel",
            "_view_count": null,
            "_view_module": "@jupyter-widgets/controls",
            "_view_module_version": "1.5.0",
            "_view_name": "ProgressView",
            "bar_style": "success",
            "description": "",
            "description_tooltip": null,
            "layout": "IPY_MODEL_fa50c90c49d744b2aec47d0bd266ede7",
            "max": 2,
            "min": 0,
            "orientation": "horizontal",
            "style": "IPY_MODEL_a994c7367d724b729204fd0b8a91a902",
            "value": 2
          }
        },
        "572ffebd43ad49539670158a0e5facc8": {
          "model_module": "@jupyter-widgets/controls",
          "model_name": "HTMLModel",
          "model_module_version": "1.5.0",
          "state": {
            "_dom_classes": [],
            "_model_module": "@jupyter-widgets/controls",
            "_model_module_version": "1.5.0",
            "_model_name": "HTMLModel",
            "_view_count": null,
            "_view_module": "@jupyter-widgets/controls",
            "_view_module_version": "1.5.0",
            "_view_name": "HTMLView",
            "description": "",
            "description_tooltip": null,
            "layout": "IPY_MODEL_a0fb13f0443f46cba9943dc04136d5ea",
            "placeholder": "​",
            "style": "IPY_MODEL_45c90ab90ff047898cec9a213e948b39",
            "value": " 2/2 [01:20&lt;00:00, 36.39s/it]"
          }
        },
        "9f7802ec7b054e7483e190927a6e17c4": {
          "model_module": "@jupyter-widgets/base",
          "model_name": "LayoutModel",
          "model_module_version": "1.2.0",
          "state": {
            "_model_module": "@jupyter-widgets/base",
            "_model_module_version": "1.2.0",
            "_model_name": "LayoutModel",
            "_view_count": null,
            "_view_module": "@jupyter-widgets/base",
            "_view_module_version": "1.2.0",
            "_view_name": "LayoutView",
            "align_content": null,
            "align_items": null,
            "align_self": null,
            "border": null,
            "bottom": null,
            "display": null,
            "flex": null,
            "flex_flow": null,
            "grid_area": null,
            "grid_auto_columns": null,
            "grid_auto_flow": null,
            "grid_auto_rows": null,
            "grid_column": null,
            "grid_gap": null,
            "grid_row": null,
            "grid_template_areas": null,
            "grid_template_columns": null,
            "grid_template_rows": null,
            "height": null,
            "justify_content": null,
            "justify_items": null,
            "left": null,
            "margin": null,
            "max_height": null,
            "max_width": null,
            "min_height": null,
            "min_width": null,
            "object_fit": null,
            "object_position": null,
            "order": null,
            "overflow": null,
            "overflow_x": null,
            "overflow_y": null,
            "padding": null,
            "right": null,
            "top": null,
            "visibility": null,
            "width": null
          }
        },
        "24ace3d333b741f5a50b1257406da3ea": {
          "model_module": "@jupyter-widgets/base",
          "model_name": "LayoutModel",
          "model_module_version": "1.2.0",
          "state": {
            "_model_module": "@jupyter-widgets/base",
            "_model_module_version": "1.2.0",
            "_model_name": "LayoutModel",
            "_view_count": null,
            "_view_module": "@jupyter-widgets/base",
            "_view_module_version": "1.2.0",
            "_view_name": "LayoutView",
            "align_content": null,
            "align_items": null,
            "align_self": null,
            "border": null,
            "bottom": null,
            "display": null,
            "flex": null,
            "flex_flow": null,
            "grid_area": null,
            "grid_auto_columns": null,
            "grid_auto_flow": null,
            "grid_auto_rows": null,
            "grid_column": null,
            "grid_gap": null,
            "grid_row": null,
            "grid_template_areas": null,
            "grid_template_columns": null,
            "grid_template_rows": null,
            "height": null,
            "justify_content": null,
            "justify_items": null,
            "left": null,
            "margin": null,
            "max_height": null,
            "max_width": null,
            "min_height": null,
            "min_width": null,
            "object_fit": null,
            "object_position": null,
            "order": null,
            "overflow": null,
            "overflow_x": null,
            "overflow_y": null,
            "padding": null,
            "right": null,
            "top": null,
            "visibility": null,
            "width": null
          }
        },
        "82a69dbf65bf4d9a90aca22b369030f2": {
          "model_module": "@jupyter-widgets/controls",
          "model_name": "DescriptionStyleModel",
          "model_module_version": "1.5.0",
          "state": {
            "_model_module": "@jupyter-widgets/controls",
            "_model_module_version": "1.5.0",
            "_model_name": "DescriptionStyleModel",
            "_view_count": null,
            "_view_module": "@jupyter-widgets/base",
            "_view_module_version": "1.2.0",
            "_view_name": "StyleView",
            "description_width": ""
          }
        },
        "fa50c90c49d744b2aec47d0bd266ede7": {
          "model_module": "@jupyter-widgets/base",
          "model_name": "LayoutModel",
          "model_module_version": "1.2.0",
          "state": {
            "_model_module": "@jupyter-widgets/base",
            "_model_module_version": "1.2.0",
            "_model_name": "LayoutModel",
            "_view_count": null,
            "_view_module": "@jupyter-widgets/base",
            "_view_module_version": "1.2.0",
            "_view_name": "LayoutView",
            "align_content": null,
            "align_items": null,
            "align_self": null,
            "border": null,
            "bottom": null,
            "display": null,
            "flex": null,
            "flex_flow": null,
            "grid_area": null,
            "grid_auto_columns": null,
            "grid_auto_flow": null,
            "grid_auto_rows": null,
            "grid_column": null,
            "grid_gap": null,
            "grid_row": null,
            "grid_template_areas": null,
            "grid_template_columns": null,
            "grid_template_rows": null,
            "height": null,
            "justify_content": null,
            "justify_items": null,
            "left": null,
            "margin": null,
            "max_height": null,
            "max_width": null,
            "min_height": null,
            "min_width": null,
            "object_fit": null,
            "object_position": null,
            "order": null,
            "overflow": null,
            "overflow_x": null,
            "overflow_y": null,
            "padding": null,
            "right": null,
            "top": null,
            "visibility": null,
            "width": null
          }
        },
        "a994c7367d724b729204fd0b8a91a902": {
          "model_module": "@jupyter-widgets/controls",
          "model_name": "ProgressStyleModel",
          "model_module_version": "1.5.0",
          "state": {
            "_model_module": "@jupyter-widgets/controls",
            "_model_module_version": "1.5.0",
            "_model_name": "ProgressStyleModel",
            "_view_count": null,
            "_view_module": "@jupyter-widgets/base",
            "_view_module_version": "1.2.0",
            "_view_name": "StyleView",
            "bar_color": null,
            "description_width": ""
          }
        },
        "a0fb13f0443f46cba9943dc04136d5ea": {
          "model_module": "@jupyter-widgets/base",
          "model_name": "LayoutModel",
          "model_module_version": "1.2.0",
          "state": {
            "_model_module": "@jupyter-widgets/base",
            "_model_module_version": "1.2.0",
            "_model_name": "LayoutModel",
            "_view_count": null,
            "_view_module": "@jupyter-widgets/base",
            "_view_module_version": "1.2.0",
            "_view_name": "LayoutView",
            "align_content": null,
            "align_items": null,
            "align_self": null,
            "border": null,
            "bottom": null,
            "display": null,
            "flex": null,
            "flex_flow": null,
            "grid_area": null,
            "grid_auto_columns": null,
            "grid_auto_flow": null,
            "grid_auto_rows": null,
            "grid_column": null,
            "grid_gap": null,
            "grid_row": null,
            "grid_template_areas": null,
            "grid_template_columns": null,
            "grid_template_rows": null,
            "height": null,
            "justify_content": null,
            "justify_items": null,
            "left": null,
            "margin": null,
            "max_height": null,
            "max_width": null,
            "min_height": null,
            "min_width": null,
            "object_fit": null,
            "object_position": null,
            "order": null,
            "overflow": null,
            "overflow_x": null,
            "overflow_y": null,
            "padding": null,
            "right": null,
            "top": null,
            "visibility": null,
            "width": null
          }
        },
        "45c90ab90ff047898cec9a213e948b39": {
          "model_module": "@jupyter-widgets/controls",
          "model_name": "DescriptionStyleModel",
          "model_module_version": "1.5.0",
          "state": {
            "_model_module": "@jupyter-widgets/controls",
            "_model_module_version": "1.5.0",
            "_model_name": "DescriptionStyleModel",
            "_view_count": null,
            "_view_module": "@jupyter-widgets/base",
            "_view_module_version": "1.2.0",
            "_view_name": "StyleView",
            "description_width": ""
          }
        }
      }
    }
  },
  "cells": [
    {
      "cell_type": "code",
      "source": [
        "#run this cell and then restart execution\n",
        "!pip install accelerate\n",
        "!pip install bitsandbytes\n",
        "!pip install optimum\n",
        "!pip install auto-gptq\n",
        "import locale\n",
        "locale.getpreferredencoding = lambda: \"UTF-8\"\n",
        "!pip install -U gradio==3.32.0"
      ],
      "metadata": {
        "id": "rd5vZMt_2wrC"
      },
      "execution_count": null,
      "outputs": []
    },
    {
      "cell_type": "code",
      "source": [
        "import gradio as gr"
      ],
      "metadata": {
        "id": "oOnNfKjX4IAV"
      },
      "execution_count": 1,
      "outputs": []
    },
    {
      "cell_type": "code",
      "execution_count": 2,
      "metadata": {
        "id": "wcKbgNj8sLDQ",
        "colab": {
          "base_uri": "https://localhost:8080/"
        },
        "outputId": "405e859c-c450-4899-d0ec-66574f4bf11e"
      },
      "outputs": [
        {
          "output_type": "stream",
          "name": "stdout",
          "text": [
            "Requirement already satisfied: transformers in /usr/local/lib/python3.10/dist-packages (4.35.2)\n",
            "Requirement already satisfied: filelock in /usr/local/lib/python3.10/dist-packages (from transformers) (3.13.1)\n",
            "Requirement already satisfied: huggingface-hub<1.0,>=0.16.4 in /usr/local/lib/python3.10/dist-packages (from transformers) (0.19.4)\n",
            "Requirement already satisfied: numpy>=1.17 in /usr/local/lib/python3.10/dist-packages (from transformers) (1.23.5)\n",
            "Requirement already satisfied: packaging>=20.0 in /usr/local/lib/python3.10/dist-packages (from transformers) (23.2)\n",
            "Requirement already satisfied: pyyaml>=5.1 in /usr/local/lib/python3.10/dist-packages (from transformers) (6.0.1)\n",
            "Requirement already satisfied: regex!=2019.12.17 in /usr/local/lib/python3.10/dist-packages (from transformers) (2023.6.3)\n",
            "Requirement already satisfied: requests in /usr/local/lib/python3.10/dist-packages (from transformers) (2.31.0)\n",
            "Requirement already satisfied: tokenizers<0.19,>=0.14 in /usr/local/lib/python3.10/dist-packages (from transformers) (0.15.0)\n",
            "Requirement already satisfied: safetensors>=0.3.1 in /usr/local/lib/python3.10/dist-packages (from transformers) (0.4.1)\n",
            "Requirement already satisfied: tqdm>=4.27 in /usr/local/lib/python3.10/dist-packages (from transformers) (4.66.1)\n",
            "Requirement already satisfied: fsspec>=2023.5.0 in /usr/local/lib/python3.10/dist-packages (from huggingface-hub<1.0,>=0.16.4->transformers) (2023.6.0)\n",
            "Requirement already satisfied: typing-extensions>=3.7.4.3 in /usr/local/lib/python3.10/dist-packages (from huggingface-hub<1.0,>=0.16.4->transformers) (4.8.0)\n",
            "Requirement already satisfied: charset-normalizer<4,>=2 in /usr/local/lib/python3.10/dist-packages (from requests->transformers) (3.3.2)\n",
            "Requirement already satisfied: idna<4,>=2.5 in /usr/local/lib/python3.10/dist-packages (from requests->transformers) (3.6)\n",
            "Requirement already satisfied: urllib3<3,>=1.21.1 in /usr/local/lib/python3.10/dist-packages (from requests->transformers) (2.0.7)\n",
            "Requirement already satisfied: certifi>=2017.4.17 in /usr/local/lib/python3.10/dist-packages (from requests->transformers) (2023.11.17)\n",
            "Requirement already satisfied: transformers in /usr/local/lib/python3.10/dist-packages (4.35.2)\n",
            "Requirement already satisfied: huggingface_hub in /usr/local/lib/python3.10/dist-packages (0.19.4)\n",
            "Requirement already satisfied: filelock in /usr/local/lib/python3.10/dist-packages (from transformers) (3.13.1)\n",
            "Requirement already satisfied: numpy>=1.17 in /usr/local/lib/python3.10/dist-packages (from transformers) (1.23.5)\n",
            "Requirement already satisfied: packaging>=20.0 in /usr/local/lib/python3.10/dist-packages (from transformers) (23.2)\n",
            "Requirement already satisfied: pyyaml>=5.1 in /usr/local/lib/python3.10/dist-packages (from transformers) (6.0.1)\n",
            "Requirement already satisfied: regex!=2019.12.17 in /usr/local/lib/python3.10/dist-packages (from transformers) (2023.6.3)\n",
            "Requirement already satisfied: requests in /usr/local/lib/python3.10/dist-packages (from transformers) (2.31.0)\n",
            "Requirement already satisfied: tokenizers<0.19,>=0.14 in /usr/local/lib/python3.10/dist-packages (from transformers) (0.15.0)\n",
            "Requirement already satisfied: safetensors>=0.3.1 in /usr/local/lib/python3.10/dist-packages (from transformers) (0.4.1)\n",
            "Requirement already satisfied: tqdm>=4.27 in /usr/local/lib/python3.10/dist-packages (from transformers) (4.66.1)\n",
            "Requirement already satisfied: fsspec>=2023.5.0 in /usr/local/lib/python3.10/dist-packages (from huggingface_hub) (2023.6.0)\n",
            "Requirement already satisfied: typing-extensions>=3.7.4.3 in /usr/local/lib/python3.10/dist-packages (from huggingface_hub) (4.8.0)\n",
            "Requirement already satisfied: charset-normalizer<4,>=2 in /usr/local/lib/python3.10/dist-packages (from requests->transformers) (3.3.2)\n",
            "Requirement already satisfied: idna<4,>=2.5 in /usr/local/lib/python3.10/dist-packages (from requests->transformers) (3.6)\n",
            "Requirement already satisfied: urllib3<3,>=1.21.1 in /usr/local/lib/python3.10/dist-packages (from requests->transformers) (2.0.7)\n",
            "Requirement already satisfied: certifi>=2017.4.17 in /usr/local/lib/python3.10/dist-packages (from requests->transformers) (2023.11.17)\n"
          ]
        }
      ],
      "source": [
        "!pip install transformers\n",
        "from transformers import AutoModelForCausalLM,AutoTokenizer\n",
        "import torch\n",
        "!pip install transformers huggingface_hub\n",
        "#from huggingface_hub import notebook_login\n",
        "\n",
        "#notebook_login()\n"
      ]
    },
    {
      "cell_type": "code",
      "source": [
        "mn = 'stabilityai/StableBeluga-7B'\n",
        "#mn = \"TheBloke/Llama-2-7b-Chat-GPTQ\""
      ],
      "metadata": {
        "id": "l3CZ0ImaserU"
      },
      "execution_count": 3,
      "outputs": []
    },
    {
      "cell_type": "code",
      "source": [
        "model = AutoModelForCausalLM.from_pretrained(mn, device_map=0, load_in_8bit=True)\n",
        "\n",
        "#model = AutoModelForCausalLM.from_pretrained(mn, device_map=0, torch_dtype=torch.float16)"
      ],
      "metadata": {
        "id": "1M3zHAtmwrDu",
        "colab": {
          "base_uri": "https://localhost:8080/",
          "height": 49,
          "referenced_widgets": [
            "4ddd127aa4f249378b200d1f0a2e49cd",
            "7e5a4920e25b4fc6b7e89b4ac49ef47e",
            "e65fab5628844a2a82d1bf42e41f7c82",
            "572ffebd43ad49539670158a0e5facc8",
            "9f7802ec7b054e7483e190927a6e17c4",
            "24ace3d333b741f5a50b1257406da3ea",
            "82a69dbf65bf4d9a90aca22b369030f2",
            "fa50c90c49d744b2aec47d0bd266ede7",
            "a994c7367d724b729204fd0b8a91a902",
            "a0fb13f0443f46cba9943dc04136d5ea",
            "45c90ab90ff047898cec9a213e948b39"
          ]
        },
        "outputId": "e0d8fb68-d89e-4e76-fb25-e11e8b0933c0"
      },
      "execution_count": 4,
      "outputs": [
        {
          "output_type": "display_data",
          "data": {
            "text/plain": [
              "Loading checkpoint shards:   0%|          | 0/2 [00:00<?, ?it/s]"
            ],
            "application/vnd.jupyter.widget-view+json": {
              "version_major": 2,
              "version_minor": 0,
              "model_id": "4ddd127aa4f249378b200d1f0a2e49cd"
            }
          },
          "metadata": {}
        }
      ]
    },
    {
      "cell_type": "code",
      "source": [
        "sb_sys = \"### System:\\nYou are a AI assistant in my car, that follows instructions extremely well. Help as much as you can. Answer questions concisely and effectively with the requested information.\\n\\n\"\n"
      ],
      "metadata": {
        "id": "jLyLFoXLJNwW"
      },
      "execution_count": 5,
      "outputs": []
    },
    {
      "cell_type": "code",
      "source": [
        "def gen(p, maxlen=15, sample=True):\n",
        "    toks = tokr(p, return_tensors=\"pt\")\n",
        "    res = model.generate(**toks.to(\"cuda\"), max_new_tokens=maxlen, do_sample=sample).to('cpu')\n",
        "    return tokr.batch_decode(res)"
      ],
      "metadata": {
        "id": "ivYhrlgtLDle"
      },
      "execution_count": 6,
      "outputs": []
    },
    {
      "cell_type": "code",
      "source": [
        "tokr = AutoTokenizer.from_pretrained(mn)"
      ],
      "metadata": {
        "id": "lMm24JII4D9F"
      },
      "execution_count": 7,
      "outputs": []
    },
    {
      "cell_type": "code",
      "source": [
        "#to have a prompt corresponding to the specific format required by the fine-tuned model Stable Beluga\n",
        "def mk_prompt(user, syst=sb_sys): return f\"{syst}### User: {user}\\n\\n### Assistant:\\n\""
      ],
      "metadata": {
        "id": "uUizoAiQKvlw"
      },
      "execution_count": 8,
      "outputs": []
    },
    {
      "cell_type": "code",
      "source": [
        "complete_answer= ''"
      ],
      "metadata": {
        "id": "8cph2QynVyvc"
      },
      "execution_count": 9,
      "outputs": []
    },
    {
      "cell_type": "code",
      "source": [
        "# get user location\n",
        "\n",
        "import requests\n",
        "\n",
        "response = requests.get(\"http://ip-api.com/json/\")\n",
        "data = response.json()\n",
        "print(data['city'], data['lat'], data['lon'])\n",
        "city= data['city']\n",
        "lat = data['lat']\n",
        "lon = data['lon']\n"
      ],
      "metadata": {
        "colab": {
          "base_uri": "https://localhost:8080/"
        },
        "id": "X-KKaqPwXuji",
        "outputId": "b9951bac-af23-439f-8cba-2c7e1f4442e6"
      },
      "execution_count": 10,
      "outputs": [
        {
          "output_type": "stream",
          "name": "stdout",
          "text": [
            "Taipei 25.0329 121.5654\n"
          ]
        }
      ]
    },
    {
      "cell_type": "code",
      "source": [
        "#weather API\n",
        "\n",
        "import requests\n",
        "\n",
        "def get_weather_with_weatherapi(api_key:str, city_name:str):\n",
        "    # The endpoint URL provided by WeatherAPI\n",
        "    url = f\"http://api.weatherapi.com/v1/current.json?key={api_key}&q={city_name}&aqi=no\"\n",
        "\n",
        "    # Make the API request\n",
        "    response = requests.get(url)\n",
        "\n",
        "    if response.status_code == 200:\n",
        "        # Parse the JSON response\n",
        "        weather_data = response.json()\n",
        "\n",
        "        # Extracting the necessary pieces of data\n",
        "        location = weather_data['location']['name']\n",
        "        region = weather_data['location']['region']\n",
        "        country = weather_data['location']['country']\n",
        "        time = weather_data['location']['localtime']\n",
        "        temperature_c = weather_data['current']['temp_c']\n",
        "        condition_text = weather_data['current']['condition']['text']\n",
        "        wind_mph = weather_data['current']['wind_mph']\n",
        "        humidity = weather_data['current']['humidity']\n",
        "        feelslike_c = weather_data['current']['feelslike_c']\n",
        "\n",
        "        # Formulate the sentences\n",
        "        weather_sentences = (\n",
        "            f\"The current weather in {location}, {region}, {country} is {condition_text} \"\n",
        "            f\"with a temperature of {temperature_c}°C that feels like {feelslike_c}°C. \"\n",
        "            f\"Humidity is at {humidity}%. \"\n",
        "            f\"Wind speed is {wind_mph} mph.\"\n",
        "        )\n",
        "        return weather_sentences\n",
        "    else:\n",
        "        # Handle errors\n",
        "        return f\"Failed to get weather data: {response.status_code}, {response.text}\"\n",
        "\n",
        "# Replace 'YOUR_API_KEY' with your actual API key from WeatherAPI and 'CITY_NAME' with your city\n",
        "api_key = 'a08df3f6b6264a1facc135137230311'\n",
        "city_name = city\n",
        "weather_info = get_weather_with_weatherapi(api_key, city_name)\n",
        "print(weather_info)\n"
      ],
      "metadata": {
        "colab": {
          "base_uri": "https://localhost:8080/"
        },
        "id": "7kqXbOXd3uAx",
        "outputId": "884dbd82-0e45-4918-b301-81843475b3f3"
      },
      "execution_count": 11,
      "outputs": [
        {
          "output_type": "stream",
          "name": "stdout",
          "text": [
            "The current weather in Taipei, T'ai-pei, Taiwan is Partly cloudy with a temperature of 19.0°C that feels like 19.0°C. Humidity is at 83%. Wind speed is 8.1 mph.\n"
          ]
        }
      ]
    },
    {
      "cell_type": "code",
      "source": [
        "import requests\n",
        "import json\n",
        "\n",
        "results = []\n",
        "r= requests.get('https://api.tomtom.com/search/2/poiCategories.json?key=FY0suJKC0xfktJmHjnNOGLXRmSyvS6zi')\n",
        "for result in r.json()['poiCategories']:\n",
        "    results.append(f\"id : {result['id']}, name: {result['name']}\")\n",
        "print (results) #categories number, to use when llama2 will be able to call functions &categorySet=number\n",
        "\n",
        "tomtom_key = \"FY0suJKC0xfktJmHjnNOGLXRmSyvS6zi\"\n",
        "def find_points_of_interest(lat, lon, city, key, type_of_poi):\n",
        "    \"\"\"\n",
        "    :param lat: latitude\n",
        "    :param lon: longitude\n",
        "    :param key: api key\n",
        "    :param type: type of poi\n",
        "    :return: [5] results ['poi']['name']/['freeformAddress'] || ['position']['lat']/['lon']\n",
        "    \"\"\"\n",
        "    results = []\n",
        "\n",
        "    r = requests.get(f'https://api.tomtom.com/search/2/search/{type_of_poi}'\n",
        "                     '.json?key={0}&lat={1}&lon={2}&radius=10000&idxSet=POI&limit=100'.format(\n",
        "                        key,\n",
        "                        lat,\n",
        "                        lon\n",
        "    ))\n",
        "    for result in r.json()['results']:\n",
        "        results.append(f\"The {type_of_poi} {result['poi']['name']} is {int(result['dist'])} meters from {city}\")\n",
        "        if len(results) == 7:\n",
        "            break\n",
        "\n",
        "    return \". \".join(results)\n",
        "\n",
        "\n",
        "print(find_points_of_interest('49.625892805337514', '6.160417066963513', 'your location', tomtom_key, 'sushi'))"
      ],
      "metadata": {
        "colab": {
          "base_uri": "https://localhost:8080/"
        },
        "id": "FfY_HT26IQsx",
        "outputId": "be5c615f-a6a4-459a-e2c5-2f9c2ab367ae"
      },
      "execution_count": 12,
      "outputs": [
        {
          "output_type": "stream",
          "name": "stdout",
          "text": [
            "['id : 7320, name: Sports Center', 'id : 7374, name: Stadium', 'id : 7315, name: Restaurant', 'id : 9376, name: Café/Pub', 'id : 9663, name: Health Care Service', 'id : 7321, name: Hospital', 'id : 9373, name: Doctor', 'id : 9361, name: Shop', 'id : 9364, name: Marijuana Dispensary', 'id : 7332, name: Market', 'id : 9932, name: Public Amenity', 'id : 7301, name: Road Traffic Control Center', 'id : 7324, name: Post Office', 'id : 7377, name: College/University', 'id : 7369, name: Open Parking Area', 'id : 9937, name: Club & Association', 'id : 7360, name: Campground', 'id : 7304, name: Vacation Rental', 'id : 9902, name: Amusement Park', 'id : 7303, name: Residential Accommodations', 'id : 7335, name: Agricultural Business', 'id : 7383, name: Airport', 'id : 9352, name: Company', 'id : 9379, name: Nightlife', 'id : 7310, name: Repair Shop', 'id : 7314, name: Hotel/Motel', 'id : 7372, name: School', 'id : 9910, name: Automotive Dealer', 'id : 9927, name: Zoo, Arboretum & Botanical Garden', 'id : 7342, name: Movie Theater', 'id : 7318, name: Theater', 'id : 9362, name: Park & Recreation Area', 'id : 7339, name: Place of Worship', 'id : 7376, name: Tourist Attraction', 'id : 7302, name: Trails', 'id : 7380, name: Railroad Station', 'id : 9942, name: Public Transportation Stop', 'id : 9160, name: Exchange', 'id : 7347, name: Marina', 'id : 7359, name: Weigh Station', 'id : 9155, name: Car Wash', 'id : 9378, name: Leisure Center', 'id : 7389, name: Access Gateway', 'id : 8099, name: Geographic Feature', 'id : 7380004, name: Urban Station', 'id : 7302003, name: Adventure Vehicle Trail', 'id : 9352003, name: Advertising Company', 'id : 7315081, name: Afghan Restaurant', 'id : 7315002, name: African Restaurant', 'id : 9361073, name: Agricultural Supplies', 'id : 9352012, name: Agricultural Technology', 'id : 7383005, name: Airfield', 'id : 9352034, name: Airline Company', 'id : 7389002, name: Airline Access', 'id : 7315082, name: Algerian Restaurant', 'id : 9663005, name: Ambulance Unit', 'id : 7315003, name: American Restaurant', 'id : 7318007, name: Amphitheater', 'id : 9902002, name: Amusement Arcade', 'id : 9902003, name: Amusement Park', 'id : 9902004, name: Amusement Place', 'id : 9361048, name: Animal Services', 'id : 9352045, name: Animal Shelter', 'id : 9361049, name: Antique/Art Shop', 'id : 7304006, name: Apartment Rental', 'id : 9927004, name: Aquatic Zoo', 'id : 7315083, name: Arabian Restaurant', 'id : 9927002, name: Arboreta & Botanical Gardens', 'id : 7376012, name: Arch', 'id : 7315084, name: Argentinian Restaurant', 'id : 7315085, name: Armenian Restaurant', 'id : 7372012, name: Art School', 'id : 7339007, name: Ashram', 'id : 7315062, name: Asian Restaurant', 'id : 7374002, name: Athletics Track', 'id : 9910009, name: ATV Dealer', 'id : 7315086, name: Australian Restaurant', 'id : 7315004, name: Austrian Restaurant', 'id : 9352013, name: Automobile Company', 'id : 9352041, name: Automobile Manufacturing', 'id : 9361058, name: Bags & Leatherwear', 'id : 7315146, name: Banquet Rooms', 'id : 9379004, name: Bar', 'id : 7315005, name: Barbecue Restaurant', 'id : 7374009, name: Baseball Park', 'id : 7374012, name: Basketball Arena', 'id : 7315087, name: Basque Restaurant', 'id : 9362002, name: Battlefield', 'id : 8099016, name: Bay', 'id : 9937002, name: Beach Club', 'id : 9361067, name: Beauty Salon', 'id : 9361050, name: Beauty Supplies', 'id : 7314002, name: B&B/Guest House', 'id : 7315006, name: Belgian Restaurant', 'id : 9361072, name: Betting Station', 'id : 7315007, name: Bistro', 'id : 9663004, name: Blood Bank', 'id : 9910004, name: Boat Dealer', 'id : 9362032, name: Boat Launching Ramp', 'id : 9361083, name: Boating Equipment & Accessories', 'id : 7310002, name: Bodyshop', 'id : 7315088, name: Bolivian Restaurant', 'id : 9361002, name: Book Shop', 'id : 7315089, name: Bosnian Restaurant', 'id : 9378002, name: Bowling Center', 'id : 7315072, name: Brazilian Restaurant', 'id : 7376010, name: Bridge', 'id : 9352035, name: Bridge & Tunnel Operations', 'id : 7315008, name: British Restaurant', 'id : 7315142, name: Buffet Restaurant', 'id : 7376002, name: Building', 'id : 7315090, name: Bulgarian Restaurant', 'id : 7304004, name: Bungalow Rental', 'id : 7315091, name: Burmese Restaurant', 'id : 9910008, name: Bus Dealer', 'id : 9352025, name: Bus Charter Company', 'id : 9352027, name: Bus Lines', 'id : 9942002, name: Bus Stop', 'id : 9352039, name: Business Services', 'id : 7318006, name: Cabaret Theater', 'id : 7314007, name: Cabins & Lodges', 'id : 9352040, name: Cable & Telephone Company', 'id : 9376002, name: Café', 'id : 7315147, name: Cafeteria', 'id : 7315009, name: Californian Restaurant', 'id : 7315092, name: Cambodian Restaurant', 'id : 7315010, name: Canadian Restaurant', 'id : 8099020, name: Cape', 'id : 9910002, name: Car Dealer', 'id : 7310003, name: Car Glass Replacement Shop', 'id : 7360003, name: Caravan Site', 'id : 7315011, name: Caribbean Restaurant', 'id : 9352043, name: Catering Services', 'id : 8099003, name: Cave', 'id : 9361003, name: CDs, DVD & Videos', 'id : 9361044, name: Video Rental Shop', 'id : 9362003, name: Cemetery', 'id : 7304005, name: Chalet Rental', 'id : 9352014, name: Chemical Company', 'id : 7315070, name: Chicken Restaurant', 'id : 7372003, name: Child Care Facility', 'id : 7315093, name: Chilean Restaurant', 'id : 7315012, name: Chinese Restaurant', 'id : 9361082, name: Christmas/Holiday Shop', 'id : 7339002, name: Church', 'id : 9352029, name: Cleaning Services', \"id : 9361004, name: Children's Clothes\", 'id : 9361005, name: Footwear & Shoe Repairs', 'id : 9361006, name: Clothing Shop', \"id : 9361007, name: Men's Clothing\", 'id : 9361079, name: Specialty Clothing Shop', \"id : 9361008, name: Women's Clothing\", 'id : 9942005, name: Coach Stop', 'id : 9379006, name: Cocktail Bar', 'id : 9376006, name: Coffee Shop', 'id : 7377002, name: College/University', 'id : 7315094, name: Colombian Restaurant', 'id : 9379009, name: Comedy Club', 'id : 9352004, name: Computer & Data Services', 'id : 9352005, name: Software Company', 'id : 7318002, name: Concert Hall', 'id : 7303006, name: Condominium Complex', 'id : 9352032, name: Construction Company', 'id : 9361042, name: Construction Material & Equipment', 'id : 9361009, name: Convenience Store', 'id : 7315095, name: Corsican Restaurant', 'id : 7304002, name: Cottage Rental', 'id : 8099017, name: Cove', 'id : 7315063, name: Creole Restaurant', 'id : 7315013, name: Crêperie', 'id : 7374003, name: Cricket Ground', 'id : 7315096, name: Cuban Restaurant', 'id : 7372015, name: Culinary School', 'id : 7315097, name: Cypriot Restaurant', 'id : 7315068, name: Czech Restaurant', 'id : 7376007, name: Dam', 'id : 9378003, name: Dance Studio & School', 'id : 7315098, name: Danish Restaurant', 'id : 9361060, name: Delicatessen', 'id : 7318008, name: Dinner Theater', 'id : 9379002, name: Disco Club', 'id : 9352006, name: Diversified Financials', 'id : 7315099, name: Dominican Restaurant', 'id : 7315057, name: Dongbei Restaurant', 'id : 7315079, name: Doughnut Restaurant', 'id : 9361076, name: Drive Through Bottle Shop', 'id : 7342003, name: Drive-In Movies', 'id : 7372016, name: Driving School', 'id : 9361051, name: Drug Store', 'id : 9361010, name: Dry Cleaner', 'id : 8099005, name: Dune', 'id : 7315014, name: Dutch Restaurant', 'id : 7315100, name: Egyptian Restaurant', 'id : 9361052, name: Electrical Appliances Shop', 'id : 9361011, name: Cameras & Photography', 'id : 9361012, name: Computer & Computer Supplies', 'id : 9361013, name: Consumer Electronics', 'id : 9361014, name: Office Equipment', 'id : 7315101, name: English Restaurant', 'id : 9352038, name: Equipment Rental', 'id : 7315132, name: Erotic Restaurant', 'id : 7315102, name: Ethiopian Restaurant', 'id : 7315133, name: Exotic Restaurant', 'id : 9361016, name: Factory Outlet', 'id : 9362017, name: Fairground', 'id : 7335004, name: Farm', 'id : 7332004, name: Farmers Market', 'id : 7315015, name: Fast Food', 'id : 7315016, name: Philippine Restaurant', 'id : 7315104, name: Finnish Restaurant', 'id : 9362016, name: Fishing & Hunting Area', 'id : 7320002, name: Fitness Club & Center', 'id : 7303003, name: Flats/Apartment Complex', 'id : 9361017, name: Florists', 'id : 9378004, name: Flying Club', 'id : 7315134, name: Fondue Restaurant', 'id : 9361018, name: Bakery', 'id : 9361019, name: Butcher', 'id : 9361020, name: Fishmonger', 'id : 9361021, name: Food Market', 'id : 9361022, name: Greengrocer', 'id : 9361023, name: Grocery Store', 'id : 9361024, name: Other Food Shops', 'id : 9361025, name: Wine & Spirits', 'id : 7374010, name: Football Stadium', 'id : 9362015, name: Forest Area', 'id : 7315017, name: French Restaurant', 'id : 9352036, name: Funeral Service & Mortuaries', 'id : 9361054, name: Furniture/Home Furnishings', 'id : 7315071, name: Fusion Restaurant', 'id : 7324002, name: Post Office', 'id : 7310004, name: Car Repair and Service', 'id : 9373002, name: General Practitioner', 'id : 7315018, name: German Restaurant', 'id : 9361026, name: Gifts, Cards, Novelties & Souvenirs', 'id : 9361055, name: Glassware/Ceramic Shop', 'id : 9160003, name: Gold Exchange', 'id : 7315019, name: Greek Restaurant', 'id : 7315020, name: Grill Restaurant', 'id : 7315054, name: Guangdong Restaurant', 'id : 7339006, name: Gurudwara', 'id : 9361027, name: Hairdresser', 'id : 7315069, name: Hamburger Restaurant', 'id : 8099018, name: Harbor', 'id : 9361069, name: Hardware Store', 'id : 7315021, name: Hawaiian Restaurant', 'id : 7372006, name: High School', 'id : 7302004, name: Hiking Trail', 'id : 8099025, name: Hill', 'id : 9362004, name: Historic Site', 'id : 9362005, name: Historical Park', 'id : 9361053, name: Hobby Shop', 'id : 9937003, name: Hockey Club', 'id : 9352044, name: Home Appliance Repair', 'id : 7374005, name: Horse Racing Track', 'id : 7320003, name: Horse Riding Center', 'id : 7335002, name: Horticulture', 'id : 7321005, name: Hospital for Women and Children', 'id : 7321004, name: Hospital of Chinese Medicine', 'id : 7314004, name: Hostel', 'id : 7315058, name: Hot Pot Restaurant', 'id : 7314003, name: Hotel', 'id : 9361028, name: Carpet/Floor Coverings', 'id : 9361029, name: Curtains/Textiles', 'id : 9361030, name: Do-It-Yourself Centers', 'id : 9361031, name: House & Garden: Furniture & Fittings', 'id : 9361032, name: Garden Centers & Services', 'id : 9361080, name: Glass & Windows Store', 'id : 9361033, name: Kitchens & Bathrooms', 'id : 9361034, name: Lighting Shops', 'id : 9361035, name: Painting & Decorating', 'id : 7315052, name: Hunan Restaurant', 'id : 7315022, name: Hungarian Restaurant', 'id : 7315078, name: Ice Cream Parlor', 'id : 7374008, name: Ice Hockey Arena', 'id : 9352042, name: Import/Export and Distribution', 'id : 7315023, name: Indian Restaurant', 'id : 7315024, name: Indonesian Restaurant', 'id : 7332002, name: Informal Market', 'id : 9352007, name: Insurance Company', 'id : 7315073, name: International Restaurant', 'id : 7380002, name: International Railroad Station', 'id : 9376004, name: Internet Café', 'id : 9352037, name: Investment Advisor', 'id : 7315105, name: Iranian Restaurant', 'id : 7315065, name: Irish Restaurant', 'id : 8099022, name: Island', 'id : 7315106, name: Israeli Restaurant', 'id : 7315025, name: Italian Restaurant', 'id : 7315066, name: Jamaican Restaurant', 'id : 7315026, name: Japanese Restaurant', 'id : 9379008, name: Jazz Club', 'id : 9361036, name: Jewelry, Clocks & Watches', 'id : 7315027, name: Jewish Restaurant', 'id : 7377003, name: Junior College/Community College', 'id : 9379010, name: Karaoke Club', 'id : 7315028, name: Korean Restaurant', 'id : 7315067, name: Kosher Restaurant', 'id : 8099019, name: Lagoon', 'id : 9362006, name: Lakeshore', 'id : 7372010, name: Language School', 'id : 7315029, name: Latin American Restaurant', 'id : 9361045, name: Laundry', 'id : 7315030, name: Lebanese Restaurant', 'id : 9352023, name: Legal Services', 'id : 7324003, name: Local Post Office', 'id : 9361056, name: Local Specialities Shop', 'id : 8099027, name: Locale', 'id : 9361071, name: Lottery Shop', 'id : 7315107, name: Luxembourgian Restaurant', 'id : 7315135, name: Macrobiotic Restaurant', 'id : 7315108, name: Maghrib Restaurant', 'id : 9352008, name: Delivery Service', 'id : 7315031, name: Maltese Restaurant', 'id : 9352011, name: Manufacturing Company', 'id : 7347002, name: Marina', 'id : 9361065, name: Marine Electronic Equipment', 'id : 8099023, name: Marsh', 'id : 7315109, name: Mauritian Restaurant', 'id : 7376011, name: Mausoleum/Grave', 'id : 9352016, name: Mechanical Engineering', 'id : 9361043, name: Medical Supplies & Equipment', 'id : 7315032, name: Mediterranean Restaurant', 'id : 9362007, name: Memorial', 'id : 7380005, name: Subway Station', 'id : 7315033, name: Mexican Restaurant', 'id : 9376007, name: Microbrewery', 'id : 7315034, name: Middle Eastern Restaurant', 'id : 7372014, name: Middle School', 'id : 7383004, name: Military Airport', 'id : 8099021, name: Mineral/Hot Springs', 'id : 9352031, name: Mining Company', 'id : 9361075, name: Mobile Phone Shop', 'id : 7315110, name: Mongolian Restaurant', 'id : 7376003, name: Monument', 'id : 7315074, name: Moroccan Restaurant', 'id : 7339003, name: Mosque', 'id : 7314006, name: Motel', 'id : 7374011, name: Motor Racing Stadium', 'id : 9910003, name: Motorcycle Dealer', 'id : 7310008, name: Motorcycle Repair', 'id : 7302002, name: Mountain Bike Trail', 'id : 8099002, name: Mountain Peak', 'id : 9352033, name: Moving & Storage Company', 'id : 7374006, name: Multi-Purpose Stadium', 'id : 7318003, name: Music Center', 'id : 9361059, name: Music Instruments Store', 'id : 7315136, name: Mussels Restaurant', 'id : 9361068, name: Nail Salon', 'id : 7380003, name: National Railroad Station', 'id : 9362030, name: Natural Recreation Attraction', 'id : 7315111, name: Nepalese Restaurant', 'id : 7374014, name: Netball Stadium', 'id : 9361037, name: Newsagents & Tobacconists', 'id : 7315112, name: Norwegian Restaurant', 'id : 8099011, name: Oasis', 'id : 7376005, name: Observatory', 'id : 9352021, name: OEM', 'id : 9352030, name: Oil & Natural Gas', 'id : 7318004, name: Opera House', 'id : 9361038, name: Optician', 'id : 7315075, name: Organic Food Restaurant', 'id : 7315035, name: Oriental Restaurant', 'id : 7310005, name: Other Repair Shops', 'id : 9362025, name: Other Winter Sport', 'id : 7339008, name: Pagoda', 'id : 7315127, name: Pakistani Restaurant', 'id : 8099009, name: Pan', 'id : 9362008, name: Park', 'id : 9362009, name: Parkway', 'id : 9932002, name: Passenger Transport Ticket Office', 'id : 9361070, name: Pawn Shop', 'id : 9932003, name: Pedestrian Subway', 'id : 9663003, name: Personal Care Facility', 'id : 9663002, name: Personal Service', 'id : 7315061, name: Peruvian Restaurant', 'id : 9361064, name: Pet Supplies', 'id : 9352018, name: Pharmaceutical Company', 'id : 9361046, name: Photo Lab/Development', 'id : 9361047, name: Photocopy Shop', 'id : 9362033, name: Picnic Area', 'id : 7315036, name: Pizzeria', 'id : 8099007, name: Plain/Flat', 'id : 7376006, name: Planetarium', 'id : 8099008, name: Plateau', 'id : 7315037, name: Polish Restaurant', 'id : 7315129, name: Polynesian Restaurant', 'id : 7315038, name: Portuguese Restaurant', 'id : 7372004, name: Pre School', 'id : 9362010, name: Preserve', 'id : 7335003, name: Primary Producer', 'id : 7372005, name: Primary School', 'id : 7383003, name: Private Airport', 'id : 9379003, name: Private Club', 'id : 7315130, name: Provençal Restaurant', 'id : 9376003, name: Pub', 'id : 7315039, name: Pub Food', 'id : 7332003, name: Public Market', 'id : 7383002, name: Public Airport', 'id : 9932004, name: Public Call Box', 'id : 9352017, name: Public Health Technology Company', 'id : 9352019, name: Publishing Technologies', 'id : 8099026, name: Quarry', 'id : 7374013, name: Race Track', 'id : 7380006, name: Railroad Siding', 'id : 8099015, name: Rapids', 'id : 9352009, name: Real Estate Company', 'id : 9361015, name: Real Estate Agent', 'id : 9362011, name: Recreation Area', 'id : 7360002, name: Recreational Camping Ground', 'id : 9910005, name: Recreational Vehicle Dealer', 'id : 9361057, name: Recycling Shop', 'id : 8099014, name: Reef', 'id : 8099013, name: Reservoir', 'id : 7303004, name: Residential Estate', 'id : 7314005, name: Resort', 'id : 7314008, name: Rest Camp', 'id : 9361063, name: Retail Outlet', 'id : 7303002, name: Retirement Community', 'id : 8099004, name: Ridge', 'id : 8099024, name: River Crossing', 'id : 9932006, name: Road Rescue', 'id : 7315041, name: Roadside Restaurant', 'id : 7302006, name: Rock Climbing Trail', 'id : 8099012, name: Rocks', 'id : 7374007, name: Rugby Ground', 'id : 7315131, name: Romanian Restaurant', 'id : 7315040, name: Russian Restaurant', 'id : 7315143, name: Salad Bar', 'id : 7310006, name: Car Accessories', 'id : 7315042, name: Sandwich Restaurant', 'id : 9378005, name: Sauna, Solarium & Massage', 'id : 9352010, name: Savings Institution', 'id : 7315113, name: Savoy Restaurant', 'id : 7315114, name: Scandinavian Restaurant', 'id : 7372002, name: School', 'id : 7315115, name: Scottish Restaurant', 'id : 7315043, name: Seafood', 'id : 9362013, name: Seashore', 'id : 7389004, name: Secured Entrance', 'id : 9361078, name: Security Products', 'id : 7372007, name: Senior High School', 'id : 9352002, name: Service Company', 'id : 7315053, name: Shandong Restaurant', 'id : 7315055, name: Shanghai Restaurant', 'id : 9361062, name: Shopping Service', 'id : 7315056, name: Sichuan Restaurant', 'id : 7315116, name: Sicilian Restaurant', 'id : 9362026, name: Ski Resort', 'id : 7315117, name: Slavic Restaurant', 'id : 7315080, name: Slovak Restaurant', 'id : 7315139, name: Snacks Restaurant', 'id : 9378006, name: Snooker, Pool & Billiard', 'id : 7374004, name: Soccer Stadium', 'id : 7315064, name: Soul Food', 'id : 7315140, name: Soup Restaurant', 'id : 7315044, name: Spanish Restaurant', 'id : 7321003, name: Special Hospital', 'id : 7372013, name: Special School', 'id : 9373003, name: Specialist', 'id : 9361061, name: Specialty Foods', 'id : 7372011, name: Sport School', 'id : 9361039, name: Sports Equipment & Clothing', 'id : 7320006, name: Squash Court', 'id : 9361074, name: Stamp Shop', 'id : 7389003, name: Station Access', 'id : 7376013, name: Statue', 'id : 7315045, name: Steak House', 'id : 9160002, name: Stock Exchange', 'id : 7315118, name: Sudanese Restaurant', 'id : 7332005, name: Supermarkets & Hypermarkets', 'id : 7315046, name: Surinamese Restaurant', 'id : 7315148, name: Sushi Restaurant', 'id : 7315119, name: Swedish Restaurant', 'id : 7315047, name: Swiss Restaurant', 'id : 7339004, name: Synagog', 'id : 7315120, name: Syrian Restaurant', 'id : 9361077, name: Tailor Shop', 'id : 7315059, name: Taiwanese Restaurant', 'id : 7315145, name: Takeout Food', 'id : 7315076, name: Tapas Restaurant', 'id : 9352022, name: Tax Services', 'id : 9942003, name: Taxi Stand', 'id : 9352026, name: Taxi, Limousine & Shuttle Service', 'id : 9376005, name: Tea House', 'id : 7372009, name: Technical School', 'id : 9352020, name: Telecommunications', 'id : 7339005, name: Temple', 'id : 7315121, name: Teppanyaki Restaurant', 'id : 7315048, name: Thai Restaurant', 'id : 7318005, name: Theater', 'id : 7320005, name: Thematic Sport Center', 'id : 7315122, name: Tibetan Restaurant', 'id : 9932005, name: Public Toilet', 'id : 7376009, name: Tower', 'id : 7303005, name: Townhouse Complex', 'id : 9361040, name: Toys & Games Shop', 'id : 7301002, name: Traffic Control Department', 'id : 9942004, name: Streetcar Stop', 'id : 9352024, name: Transport Company', 'id : 9361041, name: Travel Agent', 'id : 9910006, name: Truck Dealer', 'id : 7310009, name: Truck Repair and Service', 'id : 9155003, name: Truck Wash', 'id : 7315123, name: Tunisian Restaurant', 'id : 7376008, name: Tunnel', 'id : 7315049, name: Turkish Restaurant', 'id : 7310007, name: Tire Service', 'id : 7315124, name: Uruguayan Restaurant', 'id : 8099006, name: Valley', 'id : 9910007, name: Van Dealer', 'id : 9361081, name: Variety Store', 'id : 7315050, name: Vegetarian Restaurant', 'id : 7315125, name: Venezuelan Restaurant', 'id : 7315051, name: Vietnamese Restaurant', 'id : 7304003, name: Villa Rental', 'id : 7372008, name: Vocational School', 'id : 7376014, name: Water Hole', 'id : 9352046, name: Wedding Services', 'id : 7359003, name: Weigh Scales', 'id : 8099010, name: Well', 'id : 7315126, name: Welsh Restaurant', 'id : 7315060, name: Western Restaurant', 'id : 9361066, name: Wholesale Club', 'id : 9362014, name: Wilderness Area', 'id : 9927005, name: Wildlife Park', 'id : 9379007, name: Wine Bar', 'id : 7347003, name: Yacht Basin', 'id : 7315149, name: Yogurt/Juice Bar', 'id : 9927003, name: Zoo', 'id : 9352015, name: Electronics Company', 'id : 9362036, name: River Scenic Area', 'id : 7302005, name: Horse Riding Trail', 'id : 7321002, name: Hospital', 'id : 7376004, name: Natural Tourist Attraction', 'id : 7369002, name: Open Car Parking Area', 'id : 7369003, name: Open Coach Parking Area', 'id : 7369004, name: Open Truck Parking Area', 'id : 9364002, name: Medicinal Marijuana Dispensary', 'id : 9364003, name: Recreational Marijuana Dispensary', 'id : 9360, name: Ice Skating Rink', 'id : 9369, name: Tennis Court', 'id : 9911, name: Golf Course', 'id : 9371, name: Water Sport', 'id : 7338, name: Swimming Pool', 'id : 9359, name: Restaurant Area', 'id : 9374, name: Dentist', 'id : 9375, name: Veterinarian', 'id : 7326, name: Pharmacy', 'id : 9956, name: EmergencyRoom', 'id : 7327, name: Department Store', 'id : 7373, name: Shopping Center', 'id : 7392, name: Fire Station', 'id : 9152, name: Non Governmental Organization', 'id : 9154, name: Prison/Correctional Facility', 'id : 7365, name: Embassy', 'id : 9913, name: Library', 'id : 9151, name: Transport Authority/Vehicle Registration Office', 'id : 9153, name: Welfare Organization', 'id : 9389, name: Native Reservation', 'id : 9363, name: Courthouse', 'id : 7322, name: Police Station', 'id : 9150, name: Primary Resource/Utility', 'id : 7367, name: Government Office', 'id : 9388, name: Military Installation', 'id : 9930, name: Rent-a-Car-Parking', 'id : 7317, name: Museum', 'id : 9383, name: Industrial Building', 'id : 7313, name: Parking Garage', 'id : 7316, name: Tourist Information Office', 'id : 9158, name: Media Facility', 'id : 7349, name: Winery', 'id : 7391, name: Emergency Medical Service', 'id : 7341, name: Casino', 'id : 9156, name: Manufacturing Facility', 'id : 9382, name: Commercial Building', 'id : 7319, name: Cultural Center', 'id : 9377, name: Exhibition & Convention Center', 'id : 7312, name: Rent-a-Car Facility', 'id : 7358, name: Truck Stop', 'id : 7305, name: Adventure Sports Facility', 'id : 7395, name: Rest Area', 'id : 9157, name: Research Facility', 'id : 7388, name: Courier Drop Box', 'id : 7311, name: Gas Station', 'id : 7368, name: Motoring Organization Office', 'id : 7397, name: ATM', 'id : 7363, name: Community Center', 'id : 9357, name: Beach', 'id : 9159, name: Port/Warehouse Facility', 'id : 7309, name: Electric Vehicle Charging Station', 'id : 7337, name: Scenic/Panoramic View', 'id : 9900, name: Entertainment', 'id : 7378, name: Business Park', 'id : 7328, name: Bank', 'id : 7308, name: Helipad', 'id : 9955, name: Checkpoint', 'id : 7366, name: Frontier Crossing', 'id : 9935, name: Mountain Pass', 'id : 7375, name: Toll Gate', 'id : 7352, name: Ferry Terminal']\n",
            "The sushi Wasabi is 8587 meters from your location. The sushi Kikko is 4053 meters from your location. The sushi Vida Sushi Lounge-Kirchberg is 262 meters from your location. The sushi Sushi Shop is 135 meters from your location. The sushi Restaurant Sushi Wan Li is 521 meters from your location. The sushi Sushi & More Kirchberg is 1057 meters from your location. The sushi Sushi Royal is 1028 meters from your location\n"
          ]
        }
      ]
    },
    {
      "cell_type": "code",
      "source": [
        "import re\n",
        "api_key_weather= 'a08df3f6b6264a1facc135137230311'\n",
        "tomtom_key = \"FY0suJKC0xfktJmHjnNOGLXRmSyvS6zi\"\n",
        "list_poi = ['restaurant', 'hotel', 'café', 'bank', 'theater', 'pizza', 'sushi']\n",
        "cities = [('Kirchberg', '49.625892805337514', '6.160417066963513'), (city, lat, lon), ('Esch-sur-Alzette', '49.4959628', '5.9850306')]\n",
        "\n",
        "\n",
        "pois = \". \".join(find_points_of_interest( lat, lon, city, tomtom_key, poi)\n",
        "                for poi in list_poi)\n",
        "#for city in cities\n",
        "\n",
        "weathers_in_various_locations = [get_weather_with_weatherapi(api_key_weather, 'Luxembourg'), get_weather_with_weatherapi(api_key_weather, city), get_weather_with_weatherapi(api_key_weather, 'Esch-sur-Alzette')]\n",
        "model_answer= ''\n",
        "general_context= f'I am in my car in {city}. My exact position is latitude {lat}, longitude {lon}. I can move with my car to reach a destination. {\". \".join(weathers_in_various_locations)} {pois}'\n",
        "# Define the initial state with some initial context.\n",
        "print(general_context)\n",
        "initial_state = {'context': general_context}\n",
        "pattern = r\"Assistant:\\\\n(.*?)</s>\"\n",
        "#The api key for weather (and only for weather) is a08df3f6b6264a1facc135137230311"
      ],
      "metadata": {
        "id": "hiNY_Lo3P8jK",
        "colab": {
          "base_uri": "https://localhost:8080/"
        },
        "outputId": "fedae634-9525-4fa7-9e6d-f27789e287b7"
      },
      "execution_count": 21,
      "outputs": [
        {
          "output_type": "stream",
          "name": "stdout",
          "text": [
            "I am in my car in Taipei. My exact position is latitude 25.0329, longitude 121.5654. I can move with my car to reach a destination. The current weather in Luxembourg, Luxembourg, Luxembourg is Patchy light rain with a temperature of 3.0°C that feels like -2.4°C. Humidity is at 93%. Wind speed is 15.0 mph.. The current weather in Taipei, T'ai-pei, Taiwan is Partly cloudy with a temperature of 19.0°C that feels like 19.0°C. Humidity is at 83%. Wind speed is 8.1 mph.. The current weather in Esch-Sur-Alzette, Luxembourg, Luxembourg is Patchy light rain with a temperature of 3.0°C that feels like -2.3°C. Humidity is at 93%. Wind speed is 15.0 mph. The restaurant Brasserie du Kirchberg is 1043 meters from Kirchberg. The restaurant Piri Piri Portuguese Restaurant & Bar is 118 meters from Kirchberg. The restaurant Häagen-Dazs Galerie Du Kirchberg is 1042 meters from Kirchberg. The restaurant Vida Sushi Lounge-Kirchberg is 262 meters from Kirchberg. The restaurant Superfoods is 489 meters from Kirchberg. The restaurant JFK Bar & Kitchen is 494 meters from Kirchberg. The restaurant Restaurant Himalaya 2 is 321 meters from Kirchberg. The hotel Novotel Luxembourg Kirchberg is 1168 meters from Kirchberg. The hotel Mercure Luxembourg Off Kirchberg is 517 meters from Kirchberg. The hotel DoubleTree by Hilton Luxembourg is 1829 meters from Kirchberg. The hotel Hôtel Ibis-Aéroport is 2938 meters from Kirchberg. The hotel Le Royal is 2796 meters from Kirchberg. The hotel Hôtel Simoncini is 2813 meters from Kirchberg. The hotel Novotel Luxembourg Centre is 2766 meters from Kirchberg. The café Scott's Pub is 2598 meters from Kirchberg. The café Star Lounge is 270 meters from Kirchberg. The café Kyosk is 371 meters from Kirchberg. The café Cafe Du Nord is 157 meters from Kirchberg. The café Starbucks Luxembourg is 1028 meters from Kirchberg. The café Daimler Café Bar By Piacere is 168 meters from Kirchberg. The café Coffee Fellows is 1035 meters from Kirchberg. The bank Clearstream Services is 931 meters from Kirchberg. The bank Pictet is 168 meters from Kirchberg. The bank Kirchberg is 108 meters from Kirchberg. The bank Dekabank Deutsche Girozentrale Luxembourg - Deka is 166 meters from Kirchberg. The bank Banque Raiffeisen is 1063 meters from Kirchberg. The bank BGL BNP Paribas KIRCHBERG EUROPE is 1205 meters from Kirchberg. The bank Natixis Luxembourg is 166 meters from Kirchberg. The theater Philharmonie is 1577 meters from Kirchberg. The theater Den Atelier is 3911 meters from Kirchberg. The theater Ligue d'Improvisation Luxembourgeoise is 1814 meters from Kirchberg. The theater Grand Théâtre de Luxembourg is 2488 meters from Kirchberg. The theater Office City is 804 meters from Kirchberg. The theater Théâtre du Centaure is 2565 meters from Kirchberg. The theater Théâtre Info is 3437 meters from Kirchberg. The pizza Pizza Hut is 3102 meters from Kirchberg. The pizza Rusticana is 4515 meters from Kirchberg. The pizza La Romantica is 8033 meters from Kirchberg. The pizza Charly's Gare is 5407 meters from Kirchberg. The pizza Come à La Pizza is 3977 meters from Kirchberg. The pizza Pepe Ristorante Pizzeria is 4689 meters from Kirchberg. The pizza Cloud Factory is 546 meters from Kirchberg. The sushi Wasabi is 8587 meters from Kirchberg. The sushi Kikko is 4053 meters from Kirchberg. The sushi Vida Sushi Lounge-Kirchberg is 262 meters from Kirchberg. The sushi Sushi Shop is 135 meters from Kirchberg. The sushi Restaurant Sushi Wan Li is 521 meters from Kirchberg. The sushi Sushi & More Kirchberg is 1057 meters from Kirchberg. The sushi Sushi Royal is 1028 meters from KirchbergThe restaurant 漢爾斯101金融大樓B1店 is 214 meters from Taipei. The restaurant McDonald's Taipei Xin 101 Restaurant is 148 meters from Taipei. The restaurant 大方養生美饌鐵板燒 is 99 meters from Taipei. The restaurant Ho Compound Restaurant is 84 meters from Taipei. The restaurant Sheng He Wu is 106 meters from Taipei. The restaurant 35 Floorjapanese Restaurant is 108 meters from Taipei. The restaurant Sui Business Lounge is 115 meters from Taipei. The hotel Grand Hyatt Taipei Hotel is 390 meters from Taipei. The hotel Jasper Villa Xinyi is 359 meters from Taipei. The hotel Guide Hotel-Xinyi Branch is 617 meters from Taipei. The hotel Place X Hotel is 793 meters from Taipei. The hotel 思泊客 is 247 meters from Taipei. The hotel Enrich House is 1482 meters from Taipei. The hotel Pacific Business Center is 757 meters from Taipei. The café McCafe tai bei xin 101 is 214 meters from Taipei. The café Starbucks星巴克咖啡10135F門市 is 106 meters from Taipei. The café 意曼多精品咖啡館 is 74 meters from Taipei. The café Starbucks星巴克咖啡101門市 is 186 meters from Taipei. The café Starbucks星巴克咖啡101 B1門市 is 195 meters from Taipei. The café Starbucks星巴克咖啡101門市 Taipei101 is 195 meters from Taipei. The café 西雅圖極品咖啡世貿旗艦店 is 515 meters from Taipei. The bank 中國信託銀行市府分行 is 736 meters from Taipei. The bank 美商美國銀行國際金融業務分行 is 106 meters from Taipei. The bank 法商法國巴黎銀行國際金融業務分行 is 106 meters from Taipei. The bank 荷蘭商安智銀行國際金融業務分行 is 106 meters from Taipei. The bank 安泰商業銀行 is 106 meters from Taipei. The bank 西班牙商西班牙對外銀行台北分行 is 106 meters from Taipei. The bank 荷蘭商安智銀行台北分行 is 106 meters from Taipei. The theater 台北流行音樂中心 is 3992 meters from Taipei. The theater 台北國際會議中心大會堂 is 459 meters from Taipei. The theater 台北市親子劇場 is 539 meters from Taipei. The theater 新舞台 is 364 meters from Taipei. The theater 台灣大學戲劇學系台大劇場 is 3726 meters from Taipei. The theater Tpi Bistro & Theater is 415 meters from Taipei. The theater Rhythm Alley is 2894 meters from Taipei. The pizza Pizza Hut-Nanjing East Rd is 2259 meters from Taipei. The pizza Pizza Hut Songrenwaisong Store is 696 meters from Taipei. The pizza Maryjane Pizza is 1093 meters from Taipei. The pizza 11 Cafe is 1105 meters from Taipei. The pizza Pizza Alla Pala is 1121 meters from Taipei. The pizza Domino's Pizza Songxin Restaurant is 1326 meters from Taipei. The pizza 拿坡里莊敬店 is 612 meters from Taipei. The sushi 爭鮮迴轉壽司北醫店 is 696 meters from Taipei. The sushi Mr. Sushi is 2167 meters from Taipei. The sushi Ton Sushi is 526 meters from Taipei. The sushi Sushi Bar is 1904 meters from Taipei. The sushi Kun Sushi is 958 meters from Taipei. The sushi Hai Sushi is 739 meters from Taipei. The sushi Zong Sushi is 1499 meters from TaipeiThe restaurant 漢爾斯101金融大樓B1店 is 214 meters from Taipei. The restaurant McDonald's Taipei Xin 101 Restaurant is 148 meters from Taipei. The restaurant 大方養生美饌鐵板燒 is 99 meters from Taipei. The restaurant Ho Compound Restaurant is 84 meters from Taipei. The restaurant Sheng He Wu is 106 meters from Taipei. The restaurant 35 Floorjapanese Restaurant is 108 meters from Taipei. The restaurant Sui Business Lounge is 115 meters from Taipei. The hotel Grand Hyatt Taipei Hotel is 390 meters from Taipei. The hotel Jasper Villa Xinyi is 359 meters from Taipei. The hotel Guide Hotel-Xinyi Branch is 617 meters from Taipei. The hotel Place X Hotel is 793 meters from Taipei. The hotel 思泊客 is 247 meters from Taipei. The hotel Enrich House is 1482 meters from Taipei. The hotel Pacific Business Center is 757 meters from Taipei. The café McCafe tai bei xin 101 is 214 meters from Taipei. The café Starbucks星巴克咖啡10135F門市 is 106 meters from Taipei. The café 意曼多精品咖啡館 is 74 meters from Taipei. The café Starbucks星巴克咖啡101門市 is 186 meters from Taipei. The café Starbucks星巴克咖啡101 B1門市 is 195 meters from Taipei. The café Starbucks星巴克咖啡101門市 Taipei101 is 195 meters from Taipei. The café 西雅圖極品咖啡世貿旗艦店 is 515 meters from Taipei. The bank 中國信託銀行市府分行 is 736 meters from Taipei. The bank 美商美國銀行國際金融業務分行 is 106 meters from Taipei. The bank 法商法國巴黎銀行國際金融業務分行 is 106 meters from Taipei. The bank 荷蘭商安智銀行國際金融業務分行 is 106 meters from Taipei. The bank 安泰商業銀行 is 106 meters from Taipei. The bank 西班牙商西班牙對外銀行台北分行 is 106 meters from Taipei. The bank 荷蘭商安智銀行台北分行 is 106 meters from Taipei. The theater 台北流行音樂中心 is 3992 meters from Taipei. The theater 台北國際會議中心大會堂 is 459 meters from Taipei. The theater 台北市親子劇場 is 539 meters from Taipei. The theater 新舞台 is 364 meters from Taipei. The theater 台灣大學戲劇學系台大劇場 is 3726 meters from Taipei. The theater Tpi Bistro & Theater is 415 meters from Taipei. The theater Rhythm Alley is 2894 meters from Taipei. The pizza Pizza Hut-Nanjing East Rd is 2259 meters from Taipei. The pizza Pizza Hut Songrenwaisong Store is 696 meters from Taipei. The pizza Maryjane Pizza is 1093 meters from Taipei. The pizza 11 Cafe is 1105 meters from Taipei. The pizza Pizza Alla Pala is 1121 meters from Taipei. The pizza Domino's Pizza Songxin Restaurant is 1326 meters from Taipei. The pizza 拿坡里莊敬店 is 612 meters from Taipei. The sushi 爭鮮迴轉壽司北醫店 is 696 meters from Taipei. The sushi Mr. Sushi is 2167 meters from Taipei. The sushi Ton Sushi is 526 meters from Taipei. The sushi Sushi Bar is 1904 meters from Taipei. The sushi Kun Sushi is 958 meters from Taipei. The sushi Hai Sushi is 739 meters from Taipei. The sushi Zong Sushi is 1499 meters from Taipei\n"
          ]
        }
      ]
    },
    {
      "cell_type": "code",
      "source": [
        "def car_answer_only(complete_answer, general_context):\n",
        "    match = re.search(pattern, complete_answer, re.DOTALL)\n",
        "\n",
        "    if match:\n",
        "        # Extracting the text\n",
        "        model_answer = match.group(1)\n",
        "    else:\n",
        "        model_answer = \"There has been an error with the generated response.\"\n",
        "\n",
        "    general_context +=  model_answer\n",
        "    return (model_answer, general_context)\n",
        "#print(model_answer)"
      ],
      "metadata": {
        "id": "yAJI0WyOLE8G"
      },
      "execution_count": 16,
      "outputs": []
    },
    {
      "cell_type": "code",
      "source": [
        "def FnAnswer(general_context, ques, state):\n",
        "    # Initialize state if it is None\n",
        "    if state is None:\n",
        "        state = {}\n",
        "        state['context'] = general_context\n",
        "\n",
        "\n",
        "    question=f\"\"\"Answer the question with the help of the provided context.\n",
        "\n",
        "    ## Context\n",
        "\n",
        "    {general_context} .\n",
        "\n",
        "    ## Question\n",
        "\n",
        "    {ques}\"\"\"\n",
        "\n",
        "    complete_answer = str(gen(mk_prompt(question), 300))\n",
        "\n",
        "    model_answer, general_context= car_answer_only(complete_answer, general_context)\n",
        "\n",
        "    state['context'] = state['context'] + \". \" + model_answer\n",
        "\n",
        "\n",
        "    return model_answer, state['context'], state"
      ],
      "metadata": {
        "id": "ViCEgogaENNV"
      },
      "execution_count": 17,
      "outputs": []
    },
    {
      "cell_type": "code",
      "source": [
        "initial_context= initial_state['context']\n",
        "# Create the Gradio interface.\n",
        "iface = gr.Interface(\n",
        "    fn=FnAnswer,\n",
        "    inputs=[\n",
        "        gr.Textbox(value=initial_context, visible=False),\n",
        "        gr.Textbox(lines=2, placeholder=\"Type your message here...\"),\n",
        "        gr.State()  # This will keep track of the context state across interactions.\n",
        "    ],\n",
        "    outputs=[\n",
        "        gr.Textbox(),\n",
        "        gr.Textbox(visible=False),\n",
        "        gr.State()\n",
        "    ]\n",
        ")\n",
        "# Launch the interface.\n",
        "iface.launch(debug=True, share=True)\n",
        "#contextual=gr.Textbox(value=general_context, visible=False)\n",
        "#demo = gr.Interface(fn=FnAnswer, inputs=[contextual,\"text\"], outputs=[\"text\", contextual])\n",
        "\n",
        "#demo.launch()"
      ],
      "metadata": {
        "colab": {
          "base_uri": "https://localhost:8080/",
          "height": 1000
        },
        "id": "Z8t7vK3xKXn_",
        "outputId": "48872cb0-43d1-456f-dd73-8bb50d14f7e8"
      },
      "execution_count": null,
      "outputs": [
        {
          "output_type": "stream",
          "name": "stdout",
          "text": [
            "Colab notebook detected. This cell will run indefinitely so that you can see errors and logs. To turn off, set debug=False in launch().\n",
            "Running on public URL: https://ba29e1c6314b2a9318.gradio.live\n",
            "\n",
            "This share link expires in 72 hours. For free permanent hosting and GPU upgrades (NEW!), check out Spaces: https://huggingface.co/spaces\n"
          ]
        },
        {
          "output_type": "display_data",
          "data": {
            "text/plain": [
              "<IPython.core.display.HTML object>"
            ],
            "text/html": [
              "<div><iframe src=\"https://ba29e1c6314b2a9318.gradio.live\" width=\"100%\" height=\"500\" allow=\"autoplay; camera; microphone; clipboard-read; clipboard-write;\" frameborder=\"0\" allowfullscreen></iframe></div>"
            ]
          },
          "metadata": {}
        },
        {
          "output_type": "stream",
          "name": "stderr",
          "text": [
            "Traceback (most recent call last):\n",
            "  File \"/usr/local/lib/python3.10/dist-packages/gradio/routes.py\", line 422, in run_predict\n",
            "    output = await app.get_blocks().process_api(\n",
            "  File \"/usr/local/lib/python3.10/dist-packages/gradio/blocks.py\", line 1323, in process_api\n",
            "    result = await self.call_function(\n",
            "  File \"/usr/local/lib/python3.10/dist-packages/gradio/blocks.py\", line 1051, in call_function\n",
            "    prediction = await anyio.to_thread.run_sync(\n",
            "  File \"/usr/local/lib/python3.10/dist-packages/anyio/to_thread.py\", line 33, in run_sync\n",
            "    return await get_asynclib().run_sync_in_worker_thread(\n",
            "  File \"/usr/local/lib/python3.10/dist-packages/anyio/_backends/_asyncio.py\", line 877, in run_sync_in_worker_thread\n",
            "    return await future\n",
            "  File \"/usr/local/lib/python3.10/dist-packages/anyio/_backends/_asyncio.py\", line 807, in run\n",
            "    result = context.run(func, *args)\n",
            "  File \"<ipython-input-17-92dcc911dd46>\", line 18, in FnAnswer\n",
            "    complete_answer = str(gen(mk_prompt(question), 300))\n",
            "  File \"<ipython-input-6-6690011ba0c5>\", line 3, in gen\n",
            "    res = model.generate(**toks.to(\"cuda\"), max_new_tokens=maxlen, do_sample=sample).to('cpu')\n",
            "  File \"/usr/local/lib/python3.10/dist-packages/torch/utils/_contextlib.py\", line 115, in decorate_context\n",
            "    return func(*args, **kwargs)\n",
            "  File \"/usr/local/lib/python3.10/dist-packages/transformers/generation/utils.py\", line 1719, in generate\n",
            "    return self.sample(\n",
            "  File \"/usr/local/lib/python3.10/dist-packages/transformers/generation/utils.py\", line 2801, in sample\n",
            "    outputs = self(\n",
            "  File \"/usr/local/lib/python3.10/dist-packages/torch/nn/modules/module.py\", line 1518, in _wrapped_call_impl\n",
            "    return self._call_impl(*args, **kwargs)\n",
            "  File \"/usr/local/lib/python3.10/dist-packages/torch/nn/modules/module.py\", line 1527, in _call_impl\n",
            "    return forward_call(*args, **kwargs)\n",
            "  File \"/usr/local/lib/python3.10/dist-packages/accelerate/hooks.py\", line 165, in new_forward\n",
            "    output = module._old_forward(*args, **kwargs)\n",
            "  File \"/usr/local/lib/python3.10/dist-packages/transformers/models/llama/modeling_llama.py\", line 1034, in forward\n",
            "    outputs = self.model(\n",
            "  File \"/usr/local/lib/python3.10/dist-packages/torch/nn/modules/module.py\", line 1518, in _wrapped_call_impl\n",
            "    return self._call_impl(*args, **kwargs)\n",
            "  File \"/usr/local/lib/python3.10/dist-packages/torch/nn/modules/module.py\", line 1527, in _call_impl\n",
            "    return forward_call(*args, **kwargs)\n",
            "  File \"/usr/local/lib/python3.10/dist-packages/accelerate/hooks.py\", line 165, in new_forward\n",
            "    output = module._old_forward(*args, **kwargs)\n",
            "  File \"/usr/local/lib/python3.10/dist-packages/transformers/models/llama/modeling_llama.py\", line 922, in forward\n",
            "    layer_outputs = decoder_layer(\n",
            "  File \"/usr/local/lib/python3.10/dist-packages/torch/nn/modules/module.py\", line 1518, in _wrapped_call_impl\n",
            "    return self._call_impl(*args, **kwargs)\n",
            "  File \"/usr/local/lib/python3.10/dist-packages/torch/nn/modules/module.py\", line 1527, in _call_impl\n",
            "    return forward_call(*args, **kwargs)\n",
            "  File \"/usr/local/lib/python3.10/dist-packages/accelerate/hooks.py\", line 165, in new_forward\n",
            "    output = module._old_forward(*args, **kwargs)\n",
            "  File \"/usr/local/lib/python3.10/dist-packages/transformers/models/llama/modeling_llama.py\", line 672, in forward\n",
            "    hidden_states, self_attn_weights, present_key_value = self.self_attn(\n",
            "  File \"/usr/local/lib/python3.10/dist-packages/torch/nn/modules/module.py\", line 1518, in _wrapped_call_impl\n",
            "    return self._call_impl(*args, **kwargs)\n",
            "  File \"/usr/local/lib/python3.10/dist-packages/torch/nn/modules/module.py\", line 1527, in _call_impl\n",
            "    return forward_call(*args, **kwargs)\n",
            "  File \"/usr/local/lib/python3.10/dist-packages/accelerate/hooks.py\", line 165, in new_forward\n",
            "    output = module._old_forward(*args, **kwargs)\n",
            "  File \"/usr/local/lib/python3.10/dist-packages/transformers/models/llama/modeling_llama.py\", line 406, in forward\n",
            "    attn_weights = nn.functional.softmax(attn_weights, dim=-1, dtype=torch.float32).to(query_states.dtype)\n",
            "  File \"/usr/local/lib/python3.10/dist-packages/torch/nn/functional.py\", line 1858, in softmax\n",
            "    ret = input.softmax(dim, dtype=dtype)\n",
            "torch.cuda.OutOfMemoryError: CUDA out of memory. Tried to allocate 1.69 GiB. GPU 0 has a total capacty of 14.75 GiB of which 882.81 MiB is free. Process 45267 has 13.88 GiB memory in use. Of the allocated memory 9.41 GiB is allocated by PyTorch, and 3.46 GiB is reserved by PyTorch but unallocated. If reserved but unallocated memory is large try setting max_split_size_mb to avoid fragmentation.  See documentation for Memory Management and PYTORCH_CUDA_ALLOC_CONF\n"
          ]
        }
      ]
    },
    {
      "cell_type": "code",
      "source": [
        "#traffic API\n",
        "\n",
        "import requests\n",
        "\n",
        "api_key = 'YOUR_API_KEY'  # Replace with your actual TomTom API key\n",
        "version_number = '1'  # Check the latest API version in the documentation\n",
        "\n",
        "# TomTom Traffic API endpoint example for traffic incidents\n",
        "traffic_incidents_endpoint = f\"https://api.tomtom.com/traffic/services/5/incidentDetails?bbox=4.8854592519716675%2C52.36934334773164%2C4.897883244144765%2C52.37496348620152&fields=%7Bincidents%7Btype%2Cgeometry%7Btype%2Ccoordinates%7D%2Cproperties%7BiconCategory%7D%7D%7D&language=en-GB&categoryFilter=0%2C1%2C2%2C3%2C4%2C5%2C6%2C7%2C8%2C9%2C10%2C11%2C14&timeValidityFilter=present&key=FY0suJKC0xfktJmHjnNOGLXRmSyvS6zi\"\n",
        "\n",
        "\n",
        "\n",
        "response = requests.get(traffic_incidents_endpoint, params=params)\n",
        "\n",
        "if response.status_code == 200:\n",
        "    # Process the response if successful\n",
        "    traffic_data = response.json()\n",
        "    # Implement your logic to incorporate traffic_data into your language model\n",
        "    print(traffic_data)\n",
        "else:\n",
        "    print(f\"Error: {response.status_code}\")"
      ],
      "metadata": {
        "colab": {
          "base_uri": "https://localhost:8080/",
          "height": 245
        },
        "id": "rJ5W6eSFVP_n",
        "outputId": "7c86c045-3ba0-477f-d098-33013e733efe"
      },
      "execution_count": null,
      "outputs": [
        {
          "output_type": "error",
          "ename": "NameError",
          "evalue": "ignored",
          "traceback": [
            "\u001b[0;31m---------------------------------------------------------------------------\u001b[0m",
            "\u001b[0;31mNameError\u001b[0m                                 Traceback (most recent call last)",
            "\u001b[0;32m<ipython-input-20-579ee6a00aba>\u001b[0m in \u001b[0;36m<cell line: 13>\u001b[0;34m()\u001b[0m\n\u001b[1;32m     11\u001b[0m \u001b[0;34m\u001b[0m\u001b[0m\n\u001b[1;32m     12\u001b[0m \u001b[0;34m\u001b[0m\u001b[0m\n\u001b[0;32m---> 13\u001b[0;31m \u001b[0mresponse\u001b[0m \u001b[0;34m=\u001b[0m \u001b[0mrequests\u001b[0m\u001b[0;34m.\u001b[0m\u001b[0mget\u001b[0m\u001b[0;34m(\u001b[0m\u001b[0mtraffic_incidents_endpoint\u001b[0m\u001b[0;34m,\u001b[0m \u001b[0mparams\u001b[0m\u001b[0;34m=\u001b[0m\u001b[0mparams\u001b[0m\u001b[0;34m)\u001b[0m\u001b[0;34m\u001b[0m\u001b[0;34m\u001b[0m\u001b[0m\n\u001b[0m\u001b[1;32m     14\u001b[0m \u001b[0;34m\u001b[0m\u001b[0m\n\u001b[1;32m     15\u001b[0m \u001b[0;32mif\u001b[0m \u001b[0mresponse\u001b[0m\u001b[0;34m.\u001b[0m\u001b[0mstatus_code\u001b[0m \u001b[0;34m==\u001b[0m \u001b[0;36m200\u001b[0m\u001b[0;34m:\u001b[0m\u001b[0;34m\u001b[0m\u001b[0;34m\u001b[0m\u001b[0m\n",
            "\u001b[0;31mNameError\u001b[0m: name 'params' is not defined"
          ]
        }
      ]
    },
    {
      "cell_type": "code",
      "source": [
        "#schema of function, may be useful to use python functions in the model (not sure)\n",
        "from pydantic import create_model\n",
        "import inspect, json\n",
        "from inspect import Parameter\n",
        "\n",
        "\n",
        "\n",
        "def schema(f):\n",
        "    kw = {n:(o.annotation, ... if o.default==Parameter.empty else o.default)\n",
        "          for n,o in inspect.signature(f).parameters.items()}\n",
        "    s = create_model(f'Input for `{f.__name__}`', **kw).schema()\n",
        "    return dict(name=f.__name__, description=f.__doc__, parameters=s)"
      ],
      "metadata": {
        "id": "W8h9mVkgPDq2"
      },
      "execution_count": null,
      "outputs": []
    },
    {
      "cell_type": "code",
      "source": [
        "schema(get_weather_with_weatherapi)"
      ],
      "metadata": {
        "colab": {
          "base_uri": "https://localhost:8080/"
        },
        "id": "chB2SS0nO5ew",
        "outputId": "f4985935-43c7-4c83-e0b5-4e034794db9a"
      },
      "execution_count": null,
      "outputs": [
        {
          "output_type": "execute_result",
          "data": {
            "text/plain": [
              "{'name': 'get_weather_with_weatherapi',\n",
              " 'description': None,\n",
              " 'parameters': {'title': 'Input for `get_weather_with_weatherapi`',\n",
              "  'type': 'object',\n",
              "  'properties': {'api_key': {'title': 'Api Key', 'type': 'string'},\n",
              "   'city_name': {'title': 'City Name', 'type': 'string'}},\n",
              "  'required': ['api_key', 'city_name']}}"
            ]
          },
          "metadata": {},
          "execution_count": 11
        }
      ]
    }
  ]
}