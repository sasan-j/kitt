{
 "cells": [
  {
   "cell_type": "markdown",
   "metadata": {},
   "source": [
    "# Text to Speech Playground"
   ]
  },
  {
   "cell_type": "code",
   "execution_count": 2,
   "metadata": {},
   "outputs": [
    {
     "name": "stderr",
     "output_type": "stream",
     "text": [
      "/opt/homebrew/Caskroom/miniconda/base/envs/llm/lib/python3.11/site-packages/tqdm/auto.py:21: TqdmWarning: IProgress not found. Please update jupyter and ipywidgets. See https://ipywidgets.readthedocs.io/en/stable/user_install.html\n",
      "  from .autonotebook import tqdm as notebook_tqdm\n"
     ]
    }
   ],
   "source": [
    "import os\n",
    "\n",
    "import torch\n",
    "import gradio as gr\n",
    "from TTS.api import TTS\n",
    "os.environ[\"COQUI_TOS_AGREED\"] = \"1\"\n",
    "# os.environ[\"PYTORCH_ENABLE_MPS_FALLBACK\"] = \"1\""
   ]
  },
  {
   "cell_type": "code",
   "execution_count": 3,
   "metadata": {},
   "outputs": [],
   "source": [
    "from collections import namedtuple\n",
    "\n",
    "Voice = namedtuple('voice', ['name', 'neutral','angry'])\n"
   ]
  },
  {
   "cell_type": "code",
   "execution_count": 84,
   "metadata": {},
   "outputs": [],
   "source": [
    "voices = [\n",
    "    Voice('Attenborough', neutral='audio/attenborough/neutral.wav', angry=None),\n",
    "    Voice('Rick', neutral='audio/rick/neutral.wav', angry=None),\n",
    "    Voice('Freeman', neutral='audio/freeman/neutral.wav', angry='audio/freeman/angry.wav'),\n",
    "    Voice('Walken', neutral='audio/walken/neutral.wav', angry=None),\n",
    "    Voice('Darth Wader', neutral='audio/darth/neutral.wav', angry=None),\n",
    "]"
   ]
  },
  {
   "cell_type": "code",
   "execution_count": 5,
   "metadata": {},
   "outputs": [
    {
     "data": {
      "text/plain": [
       "[voice(name='Attenborough', neutral='audio/attenborough/neutral.mp3', angry=None),\n",
       " voice(name='Rick', neutral='audio/rick/neutral.mp3', angry=None),\n",
       " voice(name='Freeman', neutral='audio/freeman/neutral.mp3', angry='audio/freeman/angry.mp3'),\n",
       " voice(name='Walken', neutral='audio/walken/neutral.mp3', angry=None),\n",
       " voice(name='Darth Wader', neutral='audio/darth/neutral.mp3', angry=None)]"
      ]
     },
     "execution_count": 5,
     "metadata": {},
     "output_type": "execute_result"
    }
   ],
   "source": [
    "voices"
   ]
  },
  {
   "cell_type": "code",
   "execution_count": 6,
   "metadata": {},
   "outputs": [
    {
     "name": "stdout",
     "output_type": "stream",
     "text": [
      " > tts_models/multilingual/multi-dataset/xtts_v2 is already downloaded.\n"
     ]
    },
    {
     "name": "stderr",
     "output_type": "stream",
     "text": [
      "/opt/homebrew/Caskroom/miniconda/base/envs/llm/lib/python3.11/site-packages/transformers/utils/generic.py:441: UserWarning: torch.utils._pytree._register_pytree_node is deprecated. Please use torch.utils._pytree.register_pytree_node instead.\n",
      "  _torch_pytree._register_pytree_node(\n",
      "/opt/homebrew/Caskroom/miniconda/base/envs/llm/lib/python3.11/site-packages/transformers/utils/generic.py:309: UserWarning: torch.utils._pytree._register_pytree_node is deprecated. Please use torch.utils._pytree.register_pytree_node instead.\n",
      "  _torch_pytree._register_pytree_node(\n",
      "/opt/homebrew/Caskroom/miniconda/base/envs/llm/lib/python3.11/site-packages/transformers/utils/generic.py:309: UserWarning: torch.utils._pytree._register_pytree_node is deprecated. Please use torch.utils._pytree.register_pytree_node instead.\n",
      "  _torch_pytree._register_pytree_node(\n"
     ]
    },
    {
     "name": "stdout",
     "output_type": "stream",
     "text": [
      " > Using model: xtts\n"
     ]
    }
   ],
   "source": [
    "#load model for text to speech\n",
    "device = \"cuda\" if torch.cuda.is_available() else \"cpu\"\n",
    "# device = \"mps\"\n",
    "tts_pipelins = TTS(\"tts_models/multilingual/multi-dataset/xtts_v2\").to(device)"
   ]
  },
  {
   "cell_type": "code",
   "execution_count": 7,
   "metadata": {},
   "outputs": [],
   "source": [
    "import IPython\n"
   ]
  },
  {
   "cell_type": "code",
   "execution_count": 81,
   "metadata": {},
   "outputs": [],
   "source": [
    "speaker_embedding_cache = {}"
   ]
  },
  {
   "cell_type": "code",
   "execution_count": 82,
   "metadata": {},
   "outputs": [],
   "source": [
    "def compute_speaker_embedding(voice_path: str, config, pipeline, cache):\n",
    "    if voice_path not in cache:\n",
    "        cache[voice_path] = pipeline.synthesizer.tts_model.get_conditioning_latents(\n",
    "            audio_path=voice_path,\n",
    "            gpt_cond_len=config.gpt_cond_len,\n",
    "            gpt_cond_chunk_len=config.gpt_cond_chunk_len,\n",
    "            max_ref_length=config.max_ref_len,\n",
    "            sound_norm_refs=config.sound_norm_refs,\n",
    "        )\n",
    "    return cache[voice_path]"
   ]
  },
  {
   "cell_type": "code",
   "execution_count": 87,
   "metadata": {},
   "outputs": [],
   "source": [
    "out = compute_speaker_embedding(voices[0].neutral, tts_pipelins.synthesizer.tts_config, tts_pipelins, speaker_embedding_cache)"
   ]
  },
  {
   "cell_type": "code",
   "execution_count": 8,
   "metadata": {},
   "outputs": [
    {
     "name": "stdout",
     "output_type": "stream",
     "text": [
      " > Text splitted to sentences.\n",
      "['Hey Petra, so you are hungry?', 'and you like me to prepare some strawberries for you?', 'do you like strawberries?']\n",
      " > Processing time: 15.77448582649231\n",
      " > Real-time factor: 1.7459813091024587\n"
     ]
    }
   ],
   "source": [
    "out = tts_pipelins.tts(\n",
    "    \"Hello, I am Rick, pickle rick, you took a wrong turn and now you're stuck in a parallel universe\",\n",
    "    speaker_wav=\"audio/freeman/neutral.wav\",\n",
    "    language=\"en\",\n",
    "    # file_path=\"out.wav\",\n",
    ")"
   ]
  },
  {
   "cell_type": "code",
   "execution_count": 13,
   "metadata": {},
   "outputs": [],
   "source": [
    "from typing import List\n",
    "import time"
   ]
  },
  {
   "cell_type": "code",
   "execution_count": 19,
   "metadata": {},
   "outputs": [],
   "source": [
    "ref_audio_path = \"audio/freeman/neutral.wav\""
   ]
  },
  {
   "cell_type": "code",
   "execution_count": 53,
   "metadata": {},
   "outputs": [],
   "source": [
    "config.max_ref_len = 360"
   ]
  },
  {
   "cell_type": "code",
   "execution_count": 78,
   "metadata": {},
   "outputs": [],
   "source": [
    "config = tts_pipelins.synthesizer.tts_config\n",
    "(gpt_cond_latent, speaker_embedding) = tts_pipelins.synthesizer.tts_model.get_conditioning_latents(\n",
    "    audio_path=ref_audio_path,\n",
    "    gpt_cond_len=config.gpt_cond_len,\n",
    "    gpt_cond_chunk_len=config.gpt_cond_chunk_len,\n",
    "    max_ref_length=config.max_ref_len,\n",
    "    sound_norm_refs=config.sound_norm_refs,\n",
    ")"
   ]
  },
  {
   "cell_type": "code",
   "execution_count": 107,
   "metadata": {},
   "outputs": [],
   "source": [
    "(gpt_cond_latent, speaker_embedding) = compute_speaker_embedding(voices[0].neutral, tts_pipelins.synthesizer.tts_config, tts_pipelins, speaker_embedding_cache)"
   ]
  },
  {
   "cell_type": "code",
   "execution_count": 114,
   "metadata": {},
   "outputs": [],
   "source": [
    "import numpy as np"
   ]
  },
  {
   "cell_type": "code",
   "execution_count": 116,
   "metadata": {},
   "outputs": [
    {
     "data": {
      "text/plain": [
       "(205872,)"
      ]
     },
     "execution_count": 116,
     "metadata": {},
     "output_type": "execute_result"
    }
   ],
   "source": [
    "np.array(out)"
   ]
  },
  {
   "cell_type": "code",
   "execution_count": 110,
   "metadata": {},
   "outputs": [
    {
     "data": {
      "text/plain": [
       "205872"
      ]
     },
     "execution_count": 110,
     "metadata": {},
     "output_type": "execute_result"
    }
   ],
   "source": [
    "len(out)"
   ]
  },
  {
   "cell_type": "code",
   "execution_count": 128,
   "metadata": {},
   "outputs": [
    {
     "name": "stdout",
     "output_type": "stream",
     "text": [
      " > Text splitted to sentences.\n",
      "['Something is up!']\n",
      " > Processing time: 2.9515581130981445\n",
      " > Real-time factor: 1.588292083019672\n"
     ]
    }
   ],
   "source": [
    "out = tts(\n",
    "    tts_pipelins.synthesizer,\n",
    "    \"Something is up!\",\n",
    "    # speaker_wav=ref_audio_path,\n",
    "    language_name=\"en\",\n",
    "    speaker=None,\n",
    "    gpt_cond_latent=gpt_cond_latent,\n",
    "    speaker_embedding=speaker_embedding,\n",
    "    speed=1.1,\n",
    "    # file_path=\"out.wav\",\n",
    ")"
   ]
  },
  {
   "cell_type": "code",
   "execution_count": 129,
   "metadata": {},
   "outputs": [
    {
     "data": {
      "text/html": [
       "\n",
       "                <audio  controls=\"controls\" >\n",
       "                    <source src=\"data:audio/wav;base64,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\" type=\"audio/wav\" />\n",
       "                    Your browser does not support the audio element.\n",
       "                </audio>\n",
       "              "
      ],
      "text/plain": [
       "<IPython.lib.display.Audio object>"
      ]
     },
     "execution_count": 129,
     "metadata": {},
     "output_type": "execute_result"
    }
   ],
   "source": [
    "IPython.display.Audio(out, rate=22050)"
   ]
  },
  {
   "cell_type": "code",
   "execution_count": 66,
   "metadata": {},
   "outputs": [],
   "source": [
    "from TTS.vocoder.utils.generic_utils import interpolate_vocoder_input\n",
    "\n",
    "def tts(\n",
    "    self,\n",
    "    text: str = \"\",\n",
    "    language_name: str = \"\",\n",
    "    reference_wav=None,\n",
    "    gpt_cond_latent=None,\n",
    "    speaker_embedding=None,\n",
    "    split_sentences: bool = True,\n",
    "    **kwargs,\n",
    ") -> List[int]:\n",
    "    \"\"\"🐸 TTS magic. Run all the models and generate speech.\n",
    "\n",
    "    Args:\n",
    "        text (str): input text.\n",
    "        speaker_name (str, optional): speaker id for multi-speaker models. Defaults to \"\".\n",
    "        language_name (str, optional): language id for multi-language models. Defaults to \"\".\n",
    "        speaker_wav (Union[str, List[str]], optional): path to the speaker wav for voice cloning. Defaults to None.\n",
    "        style_wav ([type], optional): style waveform for GST. Defaults to None.\n",
    "        style_text ([type], optional): transcription of style_wav for Capacitron. Defaults to None.\n",
    "        reference_wav ([type], optional): reference waveform for voice conversion. Defaults to None.\n",
    "        reference_speaker_name ([type], optional): speaker id of reference waveform. Defaults to None.\n",
    "        split_sentences (bool, optional): split the input text into sentences. Defaults to True.\n",
    "        **kwargs: additional arguments to pass to the TTS model.\n",
    "    Returns:\n",
    "        List[int]: [description]\n",
    "    \"\"\"\n",
    "    start_time = time.time()\n",
    "    wavs = []\n",
    "\n",
    "    if not text and not reference_wav:\n",
    "        raise ValueError(\n",
    "            \"You need to define either `text` (for sythesis) or a `reference_wav` (for voice conversion) to use the Coqui TTS API.\"\n",
    "        )\n",
    "\n",
    "    if text:\n",
    "        sens = [text]\n",
    "        if split_sentences:\n",
    "            print(\" > Text splitted to sentences.\")\n",
    "            sens = self.split_into_sentences(text)\n",
    "        print(sens)\n",
    "\n",
    "    if not reference_wav:  # not voice conversion\n",
    "        for sen in sens:\n",
    "            outputs = self.tts_model.inference(\n",
    "                sen,\n",
    "                language_name,\n",
    "                gpt_cond_latent,\n",
    "                speaker_embedding,\n",
    "                # GPT inference\n",
    "                temperature=0.75,\n",
    "                length_penalty=1.0,\n",
    "                repetition_penalty=10.0,\n",
    "                top_k=50,\n",
    "                top_p=0.85,\n",
    "                do_sample=True,\n",
    "                **kwargs,\n",
    "            )\n",
    "            waveform = outputs[\"wav\"]\n",
    "            if torch.is_tensor(waveform) and waveform.device != torch.device(\"cpu\") and not use_gl:\n",
    "                waveform = waveform.cpu()\n",
    "            if not use_gl:\n",
    "                waveform = waveform.numpy()\n",
    "            waveform = waveform.squeeze()\n",
    "\n",
    "            # trim silence\n",
    "            if \"do_trim_silence\" in self.tts_config.audio and self.tts_config.audio[\"do_trim_silence\"]:\n",
    "                waveform = trim_silence(waveform, self.tts_model.ap)\n",
    "\n",
    "            wavs += list(waveform)\n",
    "            wavs += [0] * 10000\n",
    "\n",
    "\n",
    "    # compute stats\n",
    "    process_time = time.time() - start_time\n",
    "    audio_time = len(wavs) / self.tts_config.audio[\"sample_rate\"]\n",
    "    print(f\" > Processing time: {process_time}\")\n",
    "    print(f\" > Real-time factor: {process_time / audio_time}\")\n",
    "    return wavs"
   ]
  },
  {
   "cell_type": "code",
   "execution_count": null,
   "metadata": {},
   "outputs": [],
   "source": []
  },
  {
   "cell_type": "code",
   "execution_count": null,
   "metadata": {},
   "outputs": [],
   "source": [
    "type(tts_pipelins)"
   ]
  },
  {
   "cell_type": "code",
   "execution_count": null,
   "metadata": {},
   "outputs": [],
   "source": [
    "IPython.display.Audio(out, rate=22050)"
   ]
  },
  {
   "cell_type": "code",
   "execution_count": null,
   "metadata": {},
   "outputs": [],
   "source": [
    "def text_to_speech(voice, tts):\n",
    "    return voice.neutral"
   ]
  },
  {
   "cell_type": "code",
   "execution_count": null,
   "metadata": {},
   "outputs": [],
   "source": [
    "    tts.tts_to_file(text= str(quest_processing[0]),\n",
    "                file_path=\"output.wav\",\n",
    "                speaker_wav=f'Audio_Files/{voice}.wav',\n",
    "                language=quest_processing[3],\n",
    "                emotion = \"angry\")\n",
    "\n",
    "    audio_path = \"output.wav\"\n",
    "    return audio_path, state['context'], state"
   ]
  },
  {
   "cell_type": "code",
   "execution_count": 90,
   "metadata": {},
   "outputs": [],
   "source": [
    "voice_options = []\n",
    "for voice in voices:\n",
    "  if voice.neutral:\n",
    "    voice_options.append(f\"{voice.name} - Neutral\")\n",
    "  if voice.angry:\n",
    "    voice_options.append(f\"{voice.name} - Angry\")"
   ]
  },
  {
   "cell_type": "code",
   "execution_count": 101,
   "metadata": {},
   "outputs": [],
   "source": [
    "def voice_from_text(voice):\n",
    "    for v in voices:\n",
    "        if voice == f\"{v.name} - Neutral\":\n",
    "            return v.neutral\n",
    "        if voice == f\"{v.name} - Angry\":\n",
    "            return v.angry"
   ]
  },
  {
   "cell_type": "code",
   "execution_count": 121,
   "metadata": {},
   "outputs": [],
   "source": [
    "def tts_gradio(text, voice, state):\n",
    "    print(text, voice, state)\n",
    "    voice_path = voice_from_text(voice)\n",
    "    (gpt_cond_latent, speaker_embedding) = compute_speaker_embedding(voice_path, tts_pipelins.synthesizer.tts_config, tts_pipelins, speaker_embedding_cache)\n",
    "    out = tts(\n",
    "        tts_pipelins.synthesizer,\n",
    "        text,\n",
    "        language_name=\"en\",\n",
    "        speaker=None,\n",
    "        gpt_cond_latent=gpt_cond_latent,\n",
    "        speaker_embedding=speaker_embedding,\n",
    "        speed=1.1,\n",
    "        # file_path=\"out.wav\",\n",
    "    )\n",
    "    return (22050, np.array(out)), dict(text=text, voice=voice)"
   ]
  },
  {
   "cell_type": "code",
   "execution_count": 122,
   "metadata": {},
   "outputs": [
    {
     "data": {
      "text/plain": [
       "dict_keys(['audio/attenborough/neutral.wav'])"
      ]
     },
     "execution_count": 122,
     "metadata": {},
     "output_type": "execute_result"
    }
   ],
   "source": [
    "speaker_embedding_cache.keys()"
   ]
  },
  {
   "cell_type": "code",
   "execution_count": 127,
   "metadata": {},
   "outputs": [
    {
     "name": "stdout",
     "output_type": "stream",
     "text": [
      "This is going to be fun, let's enjoy ourselves\n",
      "Closing server running on port: 7860\n",
      "Closing server running on port: 7860\n",
      "Closing server running on port: 7860\n",
      "Closing server running on port: 7860\n",
      "Closing server running on port: 7860\n",
      "Closing server running on port: 7860\n",
      "Closing server running on port: 7860\n",
      "Closing server running on port: 7860\n",
      "Closing server running on port: 7860\n",
      "Closing server running on port: 7860\n",
      "Closing server running on port: 7860\n",
      "Running on local URL:  http://0.0.0.0:7860\n",
      "\n",
      "To create a public link, set `share=True` in `launch()`.\n"
     ]
    },
    {
     "data": {
      "text/html": [
       "<div><iframe src=\"http://localhost:7860/\" width=\"100%\" height=\"500\" allow=\"autoplay; camera; microphone; clipboard-read; clipboard-write;\" frameborder=\"0\" allowfullscreen></iframe></div>"
      ],
      "text/plain": [
       "<IPython.core.display.HTML object>"
      ]
     },
     "metadata": {},
     "output_type": "display_data"
    },
    {
     "name": "stdout",
     "output_type": "stream",
     "text": [
      "This is going to be fun, let's enjoy ourselves Darth Wader - Neutral None\n",
      " > Text splitted to sentences.\n",
      "[\"This is going to be fun, let's enjoy ourselves\"]\n",
      " > Processing time: 9.152068138122559\n",
      " > Real-time factor: 1.8119083325456329\n"
     ]
    },
    {
     "name": "stderr",
     "output_type": "stream",
     "text": [
      "/opt/homebrew/Caskroom/miniconda/base/envs/llm/lib/python3.11/site-packages/gradio/processing_utils.py:390: UserWarning: Trying to convert audio automatically from float64 to 16-bit int format.\n",
      "  warnings.warn(warning.format(data.dtype))\n"
     ]
    },
    {
     "name": "stdout",
     "output_type": "stream",
     "text": [
      "This is going to be fun, let's enjoy ourselves Darth Wader - Neutral {'text': \"This is going to be fun, let's enjoy ourselves\", 'voice': 'Darth Wader - Neutral'}\n",
      " > Text splitted to sentences.\n",
      "[\"This is going to be fun, let's enjoy ourselves\"]\n",
      " > Processing time: 7.824646234512329\n",
      " > Real-time factor: 1.8261372721316347\n",
      "Keyboard interruption in main thread... closing server.\n"
     ]
    },
    {
     "data": {
      "text/plain": []
     },
     "execution_count": 127,
     "metadata": {},
     "output_type": "execute_result"
    }
   ],
   "source": [
    "#INTERFACE WITH AUDIO TO AUDIO\n",
    "\n",
    "#to be able to use the microphone on chrome, you will have to go to chrome://flags/#unsafely-treat-insecure-origin-as-secure and enter http://10.186.115.21:7860/ \n",
    "#in \"Insecure origins treated as secure\", enable it and relaunch chrome\n",
    "\n",
    "\n",
    "model_answer= ''\n",
    "general_context= \"This is going to be fun, let's enjoy ourselves\"\n",
    "# Define the initial state with some initial context.\n",
    "print(general_context)\n",
    "initial_state = {'context': general_context}\n",
    "initial_context= initial_state['context']\n",
    "# Create the Gradio interface.\n",
    "iface = gr.Interface(\n",
    "    fn=tts_gradio,\n",
    "    inputs=[\n",
    "        gr.Textbox(value=initial_context, visible=True, label='Enter the text to be converted to speech', placeholder=\"This is going to be fun, let's enjoy ourselves\", lines=5),\n",
    "        gr.Radio(choices=voice_options, label='Choose a voice', value=voice_options[0], show_label=True),  # Radio button for voice selection\n",
    "        gr.State()  # This will keep track of the context state across interactions.\n",
    "    ],\n",
    "    outputs=[\n",
    "        gr.Audio(label = 'output audio', autoplay=True),\n",
    "        gr.State()\n",
    "    ],\n",
    "    flagging_options=['👎', '👍'],\n",
    ")\n",
    "#close all interfaces open to make the port available\n",
    "gr.close_all()\n",
    "# Launch the interface.\n",
    "iface.launch(debug=True, share=False, server_name=\"0.0.0.0\", server_port=7860, ssl_verify=False)"
   ]
  },
  {
   "cell_type": "code",
   "execution_count": null,
   "metadata": {},
   "outputs": [],
   "source": []
  }
 ],
 "metadata": {
  "kernelspec": {
   "display_name": "base",
   "language": "python",
   "name": "python3"
  },
  "language_info": {
   "codemirror_mode": {
    "name": "ipython",
    "version": 3
   },
   "file_extension": ".py",
   "mimetype": "text/x-python",
   "name": "python",
   "nbconvert_exporter": "python",
   "pygments_lexer": "ipython3",
   "version": "3.11.8"
  }
 },
 "nbformat": 4,
 "nbformat_minor": 2
}
